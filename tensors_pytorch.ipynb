{
  "nbformat": 4,
  "nbformat_minor": 0,
  "metadata": {
    "colab": {
      "provenance": [],
      "authorship_tag": "ABX9TyMnrdO28fKhUwy+d2LrUjhu",
      "include_colab_link": true
    },
    "kernelspec": {
      "name": "python3",
      "display_name": "Python 3"
    },
    "language_info": {
      "name": "python"
    }
  },
  "cells": [
    {
      "cell_type": "markdown",
      "metadata": {
        "id": "view-in-github",
        "colab_type": "text"
      },
      "source": [
        "<a href=\"https://colab.research.google.com/github/anismehmahi/pytorch/blob/main/tensors_pytorch.ipynb\" target=\"_parent\"><img src=\"https://colab.research.google.com/assets/colab-badge.svg\" alt=\"Open In Colab\"/></a>"
      ]
    },
    {
      "cell_type": "code",
      "execution_count": 1,
      "metadata": {
        "id": "WP1FeORl_8kf"
      },
      "outputs": [],
      "source": [
        "import torch"
      ]
    },
    {
      "cell_type": "code",
      "source": [
        "device = \"cuda\" if torch.cuda.is_available() else \"cpu\""
      ],
      "metadata": {
        "id": "AbCSmMieCGuL"
      },
      "execution_count": 4,
      "outputs": []
    },
    {
      "cell_type": "code",
      "source": [
        "my_tensor= torch.tensor([[1,2,3],[4,5,6]], dtype=torch.float32, device=device)"
      ],
      "metadata": {
        "id": "qVPJtZZDAzaF"
      },
      "execution_count": 8,
      "outputs": []
    },
    {
      "cell_type": "code",
      "source": [
        "my_tensor"
      ],
      "metadata": {
        "colab": {
          "base_uri": "https://localhost:8080/"
        },
        "id": "nWrc6AEJA7Pf",
        "outputId": "a3ebc39e-5272-41fe-fb64-24af8d2a11e4"
      },
      "execution_count": 9,
      "outputs": [
        {
          "output_type": "execute_result",
          "data": {
            "text/plain": [
              "tensor([[1., 2., 3.],\n",
              "        [4., 5., 6.]])"
            ]
          },
          "metadata": {},
          "execution_count": 9
        }
      ]
    },
    {
      "cell_type": "code",
      "source": [
        "my_tensor.ndim"
      ],
      "metadata": {
        "colab": {
          "base_uri": "https://localhost:8080/"
        },
        "id": "QXfB-jO5CkK-",
        "outputId": "49944b03-916d-4cce-f9b2-d19ab5eb4db6"
      },
      "execution_count": 13,
      "outputs": [
        {
          "output_type": "execute_result",
          "data": {
            "text/plain": [
              "2"
            ]
          },
          "metadata": {},
          "execution_count": 13
        }
      ]
    },
    {
      "cell_type": "code",
      "source": [
        "my_tensor.shape"
      ],
      "metadata": {
        "colab": {
          "base_uri": "https://localhost:8080/"
        },
        "id": "bMRn0heACs1D",
        "outputId": "f18cbbe1-6d5a-4448-b1ad-3f4529364f04"
      },
      "execution_count": 14,
      "outputs": [
        {
          "output_type": "execute_result",
          "data": {
            "text/plain": [
              "torch.Size([2, 3])"
            ]
          },
          "metadata": {},
          "execution_count": 14
        }
      ]
    },
    {
      "cell_type": "code",
      "source": [
        "my_tensor.dtype"
      ],
      "metadata": {
        "colab": {
          "base_uri": "https://localhost:8080/"
        },
        "id": "vaNbhMxzA8aB",
        "outputId": "add1d435-3c72-454b-b83e-c631e9ae58e3"
      },
      "execution_count": 10,
      "outputs": [
        {
          "output_type": "execute_result",
          "data": {
            "text/plain": [
              "torch.float32"
            ]
          },
          "metadata": {},
          "execution_count": 10
        }
      ]
    },
    {
      "cell_type": "code",
      "source": [
        "my_tensor.device"
      ],
      "metadata": {
        "colab": {
          "base_uri": "https://localhost:8080/"
        },
        "id": "iFRU2gx7CbpX",
        "outputId": "364e12ce-cb9b-48ea-e010-3b0ad6a9b4ee"
      },
      "execution_count": 11,
      "outputs": [
        {
          "output_type": "execute_result",
          "data": {
            "text/plain": [
              "device(type='cpu')"
            ]
          },
          "metadata": {},
          "execution_count": 11
        }
      ]
    },
    {
      "cell_type": "code",
      "source": [
        "empty = torch.empty(size=(3,4))\n",
        "empty"
      ],
      "metadata": {
        "colab": {
          "base_uri": "https://localhost:8080/"
        },
        "id": "Qryhk9lrCc1V",
        "outputId": "c1ce1854-6910-4e3b-9d1b-6736c9c32e7d"
      },
      "execution_count": 15,
      "outputs": [
        {
          "output_type": "execute_result",
          "data": {
            "text/plain": [
              "tensor([[0., 0., 0., 0.],\n",
              "        [0., 0., 0., 0.],\n",
              "        [0., 0., 0., 0.]])"
            ]
          },
          "metadata": {},
          "execution_count": 15
        }
      ]
    },
    {
      "cell_type": "code",
      "source": [
        "zeros = torch.zeros(size=(3,4))\n",
        "zeros"
      ],
      "metadata": {
        "colab": {
          "base_uri": "https://localhost:8080/"
        },
        "id": "7e3M4shTC6bA",
        "outputId": "24f0c17c-09ef-43ae-bec5-5a7debb4361f"
      },
      "execution_count": 16,
      "outputs": [
        {
          "output_type": "execute_result",
          "data": {
            "text/plain": [
              "tensor([[0., 0., 0., 0.],\n",
              "        [0., 0., 0., 0.],\n",
              "        [0., 0., 0., 0.]])"
            ]
          },
          "metadata": {},
          "execution_count": 16
        }
      ]
    },
    {
      "cell_type": "code",
      "source": [
        "rand = torch.rand(size=(3,4))\n",
        "rand"
      ],
      "metadata": {
        "colab": {
          "base_uri": "https://localhost:8080/"
        },
        "id": "tXHd1rxiC-3_",
        "outputId": "3c9a72aa-77f7-46a4-b44a-12bf844f0b0a"
      },
      "execution_count": 17,
      "outputs": [
        {
          "output_type": "execute_result",
          "data": {
            "text/plain": [
              "tensor([[0.2003, 0.8155, 0.7421, 0.6017],\n",
              "        [0.8936, 0.8324, 0.2451, 0.7355],\n",
              "        [0.6330, 0.6197, 0.8995, 0.4869]])"
            ]
          },
          "metadata": {},
          "execution_count": 17
        }
      ]
    },
    {
      "cell_type": "code",
      "source": [
        "ones = torch.ones(size=(3,4))\n",
        "ones"
      ],
      "metadata": {
        "colab": {
          "base_uri": "https://localhost:8080/"
        },
        "id": "VFb3qgchDCx_",
        "outputId": "dfcd1d54-4ff4-4f69-a47b-bde80626e210"
      },
      "execution_count": 18,
      "outputs": [
        {
          "output_type": "execute_result",
          "data": {
            "text/plain": [
              "tensor([[1., 1., 1., 1.],\n",
              "        [1., 1., 1., 1.],\n",
              "        [1., 1., 1., 1.]])"
            ]
          },
          "metadata": {},
          "execution_count": 18
        }
      ]
    },
    {
      "cell_type": "code",
      "source": [
        "eye = torch.eye(3,4)\n",
        "eye"
      ],
      "metadata": {
        "colab": {
          "base_uri": "https://localhost:8080/"
        },
        "id": "GcZGe7vSDG2i",
        "outputId": "5cdfa276-3860-437d-d478-b787510a2dd9"
      },
      "execution_count": 21,
      "outputs": [
        {
          "output_type": "execute_result",
          "data": {
            "text/plain": [
              "tensor([[1., 0., 0., 0.],\n",
              "        [0., 1., 0., 0.],\n",
              "        [0., 0., 1., 0.]])"
            ]
          },
          "metadata": {},
          "execution_count": 21
        }
      ]
    },
    {
      "cell_type": "code",
      "source": [
        "arange = torch.arange(start=0, end=5, step=2)\n",
        "arange"
      ],
      "metadata": {
        "colab": {
          "base_uri": "https://localhost:8080/"
        },
        "id": "Xx2N7v6WDJHC",
        "outputId": "a452a219-32e0-4b91-f272-abe087d6f2cd"
      },
      "execution_count": 28,
      "outputs": [
        {
          "output_type": "execute_result",
          "data": {
            "text/plain": [
              "tensor([0, 2, 4])"
            ]
          },
          "metadata": {},
          "execution_count": 28
        }
      ]
    },
    {
      "cell_type": "code",
      "source": [
        "lisnpace = torch.linspace(start=0, end=5, steps=10)\n",
        "lisnpace"
      ],
      "metadata": {
        "colab": {
          "base_uri": "https://localhost:8080/"
        },
        "id": "EFJBosKsIuZ9",
        "outputId": "6d50f181-f7d6-46d0-9938-3e1cb53ee9b6"
      },
      "execution_count": 27,
      "outputs": [
        {
          "output_type": "execute_result",
          "data": {
            "text/plain": [
              "tensor([0.0000, 0.5556, 1.1111, 1.6667, 2.2222, 2.7778, 3.3333, 3.8889, 4.4444,\n",
              "        5.0000])"
            ]
          },
          "metadata": {},
          "execution_count": 27
        }
      ]
    },
    {
      "cell_type": "code",
      "source": [
        "normal_tensor = torch.empty(size=(2,4)).normal_(0,1)\n",
        "normal_tensor"
      ],
      "metadata": {
        "colab": {
          "base_uri": "https://localhost:8080/"
        },
        "id": "udOkuejtI2UO",
        "outputId": "c9e51d43-a6c8-4d0e-f6e5-c9167da56173"
      },
      "execution_count": 31,
      "outputs": [
        {
          "output_type": "execute_result",
          "data": {
            "text/plain": [
              "tensor([[-1.1609, -0.6145, -0.1457,  0.5694],\n",
              "        [-1.0018,  1.3522, -0.0512,  1.0237]])"
            ]
          },
          "metadata": {},
          "execution_count": 31
        }
      ]
    },
    {
      "cell_type": "code",
      "source": [
        "normal_tensor.mean(axis=0)"
      ],
      "metadata": {
        "colab": {
          "base_uri": "https://localhost:8080/"
        },
        "id": "14VWIICSJgxd",
        "outputId": "1b2069ac-8757-4adc-da2f-b93157e3b842"
      },
      "execution_count": 34,
      "outputs": [
        {
          "output_type": "execute_result",
          "data": {
            "text/plain": [
              "tensor([-1.0814,  0.3689, -0.0985,  0.7965])"
            ]
          },
          "metadata": {},
          "execution_count": 34
        }
      ]
    },
    {
      "cell_type": "code",
      "source": [
        "normal_tensor.mean(axis=1)"
      ],
      "metadata": {
        "colab": {
          "base_uri": "https://localhost:8080/"
        },
        "id": "zlbB3FXiJqrr",
        "outputId": "f9c19232-9bd2-4805-fe8b-ece18eab408c"
      },
      "execution_count": 35,
      "outputs": [
        {
          "output_type": "execute_result",
          "data": {
            "text/plain": [
              "tensor([-0.3379,  0.3307])"
            ]
          },
          "metadata": {},
          "execution_count": 35
        }
      ]
    },
    {
      "cell_type": "code",
      "source": [
        "normal_tensor.mean(axis=-1)"
      ],
      "metadata": {
        "colab": {
          "base_uri": "https://localhost:8080/"
        },
        "id": "KcfvQm2kMHA9",
        "outputId": "aaedb8fa-be77-4c87-e885-388443e6c428"
      },
      "execution_count": 36,
      "outputs": [
        {
          "output_type": "execute_result",
          "data": {
            "text/plain": [
              "tensor([-0.3379,  0.3307])"
            ]
          },
          "metadata": {},
          "execution_count": 36
        }
      ]
    },
    {
      "cell_type": "code",
      "source": [
        "torch.arange(4).short() # to int16"
      ],
      "metadata": {
        "colab": {
          "base_uri": "https://localhost:8080/"
        },
        "id": "ud5Hvv1zMI5D",
        "outputId": "7a2aad83-4ff0-4fb7-a987-d1740c93ce9b"
      },
      "execution_count": 41,
      "outputs": [
        {
          "output_type": "execute_result",
          "data": {
            "text/plain": [
              "tensor([0, 1, 2, 3], dtype=torch.int16)"
            ]
          },
          "metadata": {},
          "execution_count": 41
        }
      ]
    },
    {
      "cell_type": "code",
      "source": [
        "torch.arange(4).long() # to int64 (Important)"
      ],
      "metadata": {
        "colab": {
          "base_uri": "https://localhost:8080/"
        },
        "id": "z0gDCtQ_U6mN",
        "outputId": "b55aebb4-7cc2-4ae2-c24f-fa9927fb64a6"
      },
      "execution_count": 43,
      "outputs": [
        {
          "output_type": "execute_result",
          "data": {
            "text/plain": [
              "tensor([0, 1, 2, 3])"
            ]
          },
          "metadata": {},
          "execution_count": 43
        }
      ]
    },
    {
      "cell_type": "code",
      "source": [
        "torch.arange(4).half() # to float16"
      ],
      "metadata": {
        "colab": {
          "base_uri": "https://localhost:8080/"
        },
        "id": "F1LUqWEVUR6r",
        "outputId": "92041a0d-bce4-42c7-e2a0-09d5b2567757"
      },
      "execution_count": 42,
      "outputs": [
        {
          "output_type": "execute_result",
          "data": {
            "text/plain": [
              "tensor([0., 1., 2., 3.], dtype=torch.float16)"
            ]
          },
          "metadata": {},
          "execution_count": 42
        }
      ]
    },
    {
      "cell_type": "code",
      "source": [
        "torch.arange(4).float() # to float32 (Important)"
      ],
      "metadata": {
        "colab": {
          "base_uri": "https://localhost:8080/"
        },
        "id": "tgwWsMLeVAO7",
        "outputId": "972f5397-e943-4174-cf4f-bc2547923ce0"
      },
      "execution_count": 46,
      "outputs": [
        {
          "output_type": "execute_result",
          "data": {
            "text/plain": [
              "tensor([0., 1., 2., 3.])"
            ]
          },
          "metadata": {},
          "execution_count": 46
        }
      ]
    },
    {
      "cell_type": "code",
      "source": [
        "torch.arange(4).double() # to float64"
      ],
      "metadata": {
        "colab": {
          "base_uri": "https://localhost:8080/"
        },
        "id": "mhSzYpqzVCPp",
        "outputId": "1d71150d-c6e8-432d-b04f-9b61c071bfc2"
      },
      "execution_count": 47,
      "outputs": [
        {
          "output_type": "execute_result",
          "data": {
            "text/plain": [
              "tensor([0., 1., 2., 3.], dtype=torch.float64)"
            ]
          },
          "metadata": {},
          "execution_count": 47
        }
      ]
    },
    {
      "cell_type": "markdown",
      "source": [
        "## Math Operations"
      ],
      "metadata": {
        "id": "jMCM16QwWvzl"
      }
    },
    {
      "cell_type": "code",
      "source": [
        "x = torch.rand((1,3))\n",
        "x"
      ],
      "metadata": {
        "colab": {
          "base_uri": "https://localhost:8080/"
        },
        "id": "E9x1FozvWVHg",
        "outputId": "c3028267-be0f-4123-dfd3-c3f995a98c2c"
      },
      "execution_count": 49,
      "outputs": [
        {
          "output_type": "execute_result",
          "data": {
            "text/plain": [
              "tensor([[0.7142, 0.3094, 0.3238]])"
            ]
          },
          "metadata": {},
          "execution_count": 49
        }
      ]
    },
    {
      "cell_type": "code",
      "source": [
        "y = torch.rand(1,3)\n",
        "y"
      ],
      "metadata": {
        "colab": {
          "base_uri": "https://localhost:8080/"
        },
        "id": "fMR8s0ZDW3kc",
        "outputId": "7a6c6cb3-fc34-46e4-aacf-cb94fba64218"
      },
      "execution_count": 52,
      "outputs": [
        {
          "output_type": "execute_result",
          "data": {
            "text/plain": [
              "tensor([[0.2482, 0.8144, 0.3288]])"
            ]
          },
          "metadata": {},
          "execution_count": 52
        }
      ]
    },
    {
      "cell_type": "code",
      "source": [
        "x+y"
      ],
      "metadata": {
        "colab": {
          "base_uri": "https://localhost:8080/"
        },
        "id": "CDPxmt5GW77O",
        "outputId": "a5b949b6-1dd1-4a37-91c1-c69246fa53bb"
      },
      "execution_count": 53,
      "outputs": [
        {
          "output_type": "execute_result",
          "data": {
            "text/plain": [
              "tensor([[0.9624, 1.1237, 0.6525]])"
            ]
          },
          "metadata": {},
          "execution_count": 53
        }
      ]
    },
    {
      "cell_type": "code",
      "source": [
        "x-y"
      ],
      "metadata": {
        "colab": {
          "base_uri": "https://localhost:8080/"
        },
        "id": "KN9Y2jfiW8sN",
        "outputId": "f4b8c8a6-7fbf-491f-f754-53737d4f7b17"
      },
      "execution_count": 54,
      "outputs": [
        {
          "output_type": "execute_result",
          "data": {
            "text/plain": [
              "tensor([[ 0.4660, -0.5050, -0.0050]])"
            ]
          },
          "metadata": {},
          "execution_count": 54
        }
      ]
    },
    {
      "cell_type": "code",
      "source": [
        "x*y"
      ],
      "metadata": {
        "colab": {
          "base_uri": "https://localhost:8080/"
        },
        "id": "e8Ji16SYXDVx",
        "outputId": "9aa5edb1-5af7-4f28-8673-a11cc5c412c8"
      },
      "execution_count": 55,
      "outputs": [
        {
          "output_type": "execute_result",
          "data": {
            "text/plain": [
              "tensor([[0.1773, 0.2519, 0.1064]])"
            ]
          },
          "metadata": {},
          "execution_count": 55
        }
      ]
    },
    {
      "cell_type": "code",
      "source": [
        "x@y.T"
      ],
      "metadata": {
        "colab": {
          "base_uri": "https://localhost:8080/"
        },
        "id": "DaGj-lC3XEhv",
        "outputId": "1d550253-33dd-48ab-be5d-a40651d67d65"
      },
      "execution_count": 57,
      "outputs": [
        {
          "output_type": "execute_result",
          "data": {
            "text/plain": [
              "tensor([[0.5356]])"
            ]
          },
          "metadata": {},
          "execution_count": 57
        }
      ]
    },
    {
      "cell_type": "code",
      "source": [
        "x/y"
      ],
      "metadata": {
        "colab": {
          "base_uri": "https://localhost:8080/"
        },
        "id": "VPfKtV45XGwk",
        "outputId": "31ab7304-df29-4b11-8cef-30f008e695ca"
      },
      "execution_count": 58,
      "outputs": [
        {
          "output_type": "execute_result",
          "data": {
            "text/plain": [
              "tensor([[2.8776, 0.3799, 0.9848]])"
            ]
          },
          "metadata": {},
          "execution_count": 58
        }
      ]
    },
    {
      "cell_type": "code",
      "source": [
        "x**2"
      ],
      "metadata": {
        "colab": {
          "base_uri": "https://localhost:8080/"
        },
        "id": "oF4Ym88EYEhC",
        "outputId": "6614679a-8956-42d3-874e-a12a819ecfd3"
      },
      "execution_count": 60,
      "outputs": [
        {
          "output_type": "execute_result",
          "data": {
            "text/plain": [
              "tensor([[0.5101, 0.0957, 0.1048]])"
            ]
          },
          "metadata": {},
          "execution_count": 60
        }
      ]
    },
    {
      "cell_type": "code",
      "source": [
        "x==y"
      ],
      "metadata": {
        "colab": {
          "base_uri": "https://localhost:8080/"
        },
        "id": "jzFFGb5bYLwk",
        "outputId": "873cde54-f4e6-491e-cdc7-1102b083e9b6"
      },
      "execution_count": 61,
      "outputs": [
        {
          "output_type": "execute_result",
          "data": {
            "text/plain": [
              "tensor([[False, False, False]])"
            ]
          },
          "metadata": {},
          "execution_count": 61
        }
      ]
    },
    {
      "cell_type": "code",
      "source": [
        "x>0"
      ],
      "metadata": {
        "colab": {
          "base_uri": "https://localhost:8080/"
        },
        "id": "Uus9Yon4YNXP",
        "outputId": "cc42c0b1-a3c9-4278-8927-e746752c4152"
      },
      "execution_count": 62,
      "outputs": [
        {
          "output_type": "execute_result",
          "data": {
            "text/plain": [
              "tensor([[True, True, True]])"
            ]
          },
          "metadata": {},
          "execution_count": 62
        }
      ]
    },
    {
      "cell_type": "code",
      "source": [
        "x1 = torch.rand(2,5)\n",
        "x2= torch.rand(5,3)"
      ],
      "metadata": {
        "id": "tCA6czdGYPHR"
      },
      "execution_count": 64,
      "outputs": []
    },
    {
      "cell_type": "code",
      "source": [
        "x1.mm(x2)"
      ],
      "metadata": {
        "colab": {
          "base_uri": "https://localhost:8080/"
        },
        "id": "6eyJLBSUYfhw",
        "outputId": "c2d6ff23-8715-41cf-f73c-a4f5df3d8284"
      },
      "execution_count": 66,
      "outputs": [
        {
          "output_type": "execute_result",
          "data": {
            "text/plain": [
              "tensor([[1.0582, 1.0139, 0.8393],\n",
              "        [1.4272, 1.5501, 1.5893]])"
            ]
          },
          "metadata": {},
          "execution_count": 66
        }
      ]
    },
    {
      "cell_type": "code",
      "source": [
        "x1"
      ],
      "metadata": {
        "colab": {
          "base_uri": "https://localhost:8080/"
        },
        "id": "s0XIH0vSYzti",
        "outputId": "f7ec164e-66de-40da-8897-4047eae2f7e8"
      },
      "execution_count": 69,
      "outputs": [
        {
          "output_type": "execute_result",
          "data": {
            "text/plain": [
              "tensor([[0.6167, 0.3767, 0.6945, 0.1146, 0.1363],\n",
              "        [0.4315, 0.9471, 0.0514, 0.6386, 0.0523]])"
            ]
          },
          "metadata": {},
          "execution_count": 69
        }
      ]
    },
    {
      "cell_type": "code",
      "source": [
        "x1**3 # element wise à la puissance 3"
      ],
      "metadata": {
        "colab": {
          "base_uri": "https://localhost:8080/"
        },
        "id": "XwiWqA7MYly8",
        "outputId": "8b9dead2-06f1-4fd8-84ed-931112ef1ed4"
      },
      "execution_count": 72,
      "outputs": [
        {
          "output_type": "execute_result",
          "data": {
            "text/plain": [
              "tensor([[2.3454e-01, 5.3450e-02, 3.3496e-01, 1.5042e-03, 2.5314e-03],\n",
              "        [8.0335e-02, 8.4947e-01, 1.3597e-04, 2.6037e-01, 1.4326e-04]])"
            ]
          },
          "metadata": {},
          "execution_count": 72
        }
      ]
    },
    {
      "cell_type": "code",
      "source": [
        "x1.matrix_power(3) # this one do matrix @ matrix @ matrix but matrix should be square"
      ],
      "metadata": {
        "colab": {
          "base_uri": "https://localhost:8080/",
          "height": 141
        },
        "id": "QCMkBYj7YxVA",
        "outputId": "3b78f28d-4613-4e84-8715-070c07b652cd"
      },
      "execution_count": 73,
      "outputs": [
        {
          "output_type": "error",
          "ename": "RuntimeError",
          "evalue": "linalg.matrix_power: A must be batches of square matrices, but they are 2 by 5 matrices",
          "traceback": [
            "\u001b[0;31m---------------------------------------------------------------------------\u001b[0m",
            "\u001b[0;31mRuntimeError\u001b[0m                              Traceback (most recent call last)",
            "\u001b[0;32m<ipython-input-73-c58e031222a5>\u001b[0m in \u001b[0;36m<cell line: 1>\u001b[0;34m()\u001b[0m\n\u001b[0;32m----> 1\u001b[0;31m \u001b[0mx1\u001b[0m\u001b[0;34m.\u001b[0m\u001b[0mmatrix_power\u001b[0m\u001b[0;34m(\u001b[0m\u001b[0;36m3\u001b[0m\u001b[0;34m)\u001b[0m \u001b[0;31m# this one do matrix @ matrix @ matrix\u001b[0m\u001b[0;34m\u001b[0m\u001b[0;34m\u001b[0m\u001b[0m\n\u001b[0m",
            "\u001b[0;31mRuntimeError\u001b[0m: linalg.matrix_power: A must be batches of square matrices, but they are 2 by 5 matrices"
          ]
        }
      ]
    },
    {
      "cell_type": "code",
      "source": [
        "y.squeeze().shape"
      ],
      "metadata": {
        "colab": {
          "base_uri": "https://localhost:8080/"
        },
        "id": "cR9nYsPPbP2k",
        "outputId": "e9976df4-e4a2-4257-b769-022deec53d1d"
      },
      "execution_count": 80,
      "outputs": [
        {
          "output_type": "execute_result",
          "data": {
            "text/plain": [
              "torch.Size([3])"
            ]
          },
          "metadata": {},
          "execution_count": 80
        }
      ]
    },
    {
      "cell_type": "code",
      "source": [
        "torch.dot(x.squeeze(),y.squeeze()) # dot product only for vectors (1D)"
      ],
      "metadata": {
        "colab": {
          "base_uri": "https://localhost:8080/"
        },
        "id": "LQ7vZMBgY-s7",
        "outputId": "1c478e32-b10e-4170-9a75-e1ec7917be2e"
      },
      "execution_count": 81,
      "outputs": [
        {
          "output_type": "execute_result",
          "data": {
            "text/plain": [
              "tensor(0.5356)"
            ]
          },
          "metadata": {},
          "execution_count": 81
        }
      ]
    },
    {
      "cell_type": "code",
      "source": [
        "torch.mm(x,y.T)"
      ],
      "metadata": {
        "colab": {
          "base_uri": "https://localhost:8080/"
        },
        "id": "0lwBmcOlbKWR",
        "outputId": "a84c4fc1-1e00-4d39-aeb1-b349f4430ba4"
      },
      "execution_count": 83,
      "outputs": [
        {
          "output_type": "execute_result",
          "data": {
            "text/plain": [
              "tensor([[0.5356]])"
            ]
          },
          "metadata": {},
          "execution_count": 83
        }
      ]
    },
    {
      "cell_type": "code",
      "source": [
        "# Batch Matrix Multiplication\n",
        "batch = 32\n",
        "n=3\n",
        "m=4\n",
        "p=2\n",
        "tensor1 = torch.rand(batch,n,m)\n",
        "tensor2=torch.rand(batch,m,p)\n",
        "\n",
        "# this will matrix multiply the first matrix from the first batch with the forst matrix from the second batch\n",
        "batch_mult = torch.bmm(tensor1,tensor2)\n",
        "batch_mult"
      ],
      "metadata": {
        "id": "P7uUX2JCbcmc"
      },
      "execution_count": null,
      "outputs": []
    },
    {
      "cell_type": "code",
      "source": [
        "batch_mult.shape"
      ],
      "metadata": {
        "colab": {
          "base_uri": "https://localhost:8080/"
        },
        "id": "UaYXepiybpeB",
        "outputId": "191161ad-1586-4a5b-a182-0d688c3cb34f"
      },
      "execution_count": 87,
      "outputs": [
        {
          "output_type": "execute_result",
          "data": {
            "text/plain": [
              "torch.Size([32, 3, 2])"
            ]
          },
          "metadata": {},
          "execution_count": 87
        }
      ]
    },
    {
      "cell_type": "code",
      "source": [
        "tensor1[0].mm(tensor2[0])"
      ],
      "metadata": {
        "colab": {
          "base_uri": "https://localhost:8080/"
        },
        "id": "1t2lnSgScMot",
        "outputId": "ab5e03ff-6b15-4855-fca1-122280c28bf4"
      },
      "execution_count": 91,
      "outputs": [
        {
          "output_type": "execute_result",
          "data": {
            "text/plain": [
              "tensor([[0.9855, 0.9525],\n",
              "        [1.0360, 1.0017],\n",
              "        [1.0346, 0.9781]])"
            ]
          },
          "metadata": {},
          "execution_count": 91
        }
      ]
    },
    {
      "cell_type": "code",
      "source": [
        "batch_mult[0]"
      ],
      "metadata": {
        "colab": {
          "base_uri": "https://localhost:8080/"
        },
        "id": "pkg9mGYxcROS",
        "outputId": "5a7a783d-7615-4a25-9e80-4a147ad6bb4d"
      },
      "execution_count": 92,
      "outputs": [
        {
          "output_type": "execute_result",
          "data": {
            "text/plain": [
              "tensor([[0.9855, 0.9525],\n",
              "        [1.0360, 1.0017],\n",
              "        [1.0346, 0.9781]])"
            ]
          },
          "metadata": {},
          "execution_count": 92
        }
      ]
    },
    {
      "cell_type": "markdown",
      "source": [
        "## Broadcasting"
      ],
      "metadata": {
        "id": "21O3GRSRcoVc"
      }
    },
    {
      "cell_type": "code",
      "source": [
        "a1 = torch.rand(3,5)\n",
        "a2 = torch.rand(1,5)"
      ],
      "metadata": {
        "id": "qIDqDuiWcbRj"
      },
      "execution_count": 99,
      "outputs": []
    },
    {
      "cell_type": "code",
      "source": [
        "a1-a2"
      ],
      "metadata": {
        "colab": {
          "base_uri": "https://localhost:8080/"
        },
        "id": "BjbsVbZpeZzY",
        "outputId": "871f9d91-824f-4b68-c476-5e489399079d"
      },
      "execution_count": 106,
      "outputs": [
        {
          "output_type": "execute_result",
          "data": {
            "text/plain": [
              "tensor([[-0.0598,  0.5742,  0.4843, -0.3402, -0.1638],\n",
              "        [-0.0263, -0.0989,  0.0413, -0.2737, -0.1322],\n",
              "        [ 0.2537,  0.1082, -0.2547,  0.0499,  0.3471]])"
            ]
          },
          "metadata": {},
          "execution_count": 106
        }
      ]
    },
    {
      "cell_type": "code",
      "source": [
        "a1"
      ],
      "metadata": {
        "colab": {
          "base_uri": "https://localhost:8080/"
        },
        "id": "flGF6Q4YhKde",
        "outputId": "2c310fb3-63bd-4abe-c28c-0936e95b40d4"
      },
      "execution_count": 105,
      "outputs": [
        {
          "output_type": "execute_result",
          "data": {
            "text/plain": [
              "tensor([[0.2034, 0.9386, 0.9440, 0.5779, 0.4068],\n",
              "        [0.2370, 0.2655, 0.5010, 0.6445, 0.4384],\n",
              "        [0.5169, 0.4726, 0.2050, 0.9680, 0.9177]])"
            ]
          },
          "metadata": {},
          "execution_count": 105
        }
      ]
    },
    {
      "cell_type": "code",
      "source": [
        "a1.sum(dim=0)"
      ],
      "metadata": {
        "colab": {
          "base_uri": "https://localhost:8080/"
        },
        "id": "ajqAFCcEenu4",
        "outputId": "e3952619-b361-4833-82c3-23f44d797de1"
      },
      "execution_count": 107,
      "outputs": [
        {
          "output_type": "execute_result",
          "data": {
            "text/plain": [
              "tensor([0.9573, 1.6767, 1.6499, 2.1904, 1.7628])"
            ]
          },
          "metadata": {},
          "execution_count": 107
        }
      ]
    },
    {
      "cell_type": "code",
      "source": [
        "a1.max(dim=0)"
      ],
      "metadata": {
        "colab": {
          "base_uri": "https://localhost:8080/"
        },
        "id": "y8A6NBUZgzg6",
        "outputId": "2c99f599-06c9-48de-a39a-e9f081c36711"
      },
      "execution_count": 108,
      "outputs": [
        {
          "output_type": "execute_result",
          "data": {
            "text/plain": [
              "torch.return_types.max(\n",
              "values=tensor([0.5169, 0.9386, 0.9440, 0.9680, 0.9177]),\n",
              "indices=tensor([2, 0, 0, 2, 2]))"
            ]
          },
          "metadata": {},
          "execution_count": 108
        }
      ]
    },
    {
      "cell_type": "code",
      "source": [
        "batch_ma = torch.rand(4,3,2)\n",
        "result = batch_ma.max(dim=0)\n",
        "result"
      ],
      "metadata": {
        "id": "NRXfBKZthEth"
      },
      "execution_count": 131,
      "outputs": []
    },
    {
      "cell_type": "code",
      "source": [
        "batch_ma.sum(dim=0)"
      ],
      "metadata": {
        "colab": {
          "base_uri": "https://localhost:8080/"
        },
        "id": "Z8OAt-3HlDpc",
        "outputId": "66a8392f-3b95-4ee1-94ca-a6e88a96e64e"
      },
      "execution_count": 135,
      "outputs": [
        {
          "output_type": "execute_result",
          "data": {
            "text/plain": [
              "tensor([[1.6414, 2.2400],\n",
              "        [2.0727, 0.6145],\n",
              "        [1.7152, 2.5901]])"
            ]
          },
          "metadata": {},
          "execution_count": 135
        }
      ]
    },
    {
      "cell_type": "code",
      "source": [
        "result[0].shape"
      ],
      "metadata": {
        "colab": {
          "base_uri": "https://localhost:8080/"
        },
        "id": "eWSBZFLwkI2e",
        "outputId": "2461e8d9-3f70-4c3d-85ef-cd05b493e00e"
      },
      "execution_count": 125,
      "outputs": [
        {
          "output_type": "execute_result",
          "data": {
            "text/plain": [
              "torch.Size([3, 2])"
            ]
          },
          "metadata": {},
          "execution_count": 125
        }
      ]
    },
    {
      "cell_type": "code",
      "source": [
        "batch_ma"
      ],
      "metadata": {
        "colab": {
          "base_uri": "https://localhost:8080/"
        },
        "id": "MJhyVNbQiafX",
        "outputId": "e9f5214f-9296-4df8-abce-fa3d5b0fcf14"
      },
      "execution_count": 137,
      "outputs": [
        {
          "output_type": "execute_result",
          "data": {
            "text/plain": [
              "tensor([[[0.0567, 0.7254],\n",
              "         [0.3593, 0.2397],\n",
              "         [0.3305, 0.4140]],\n",
              "\n",
              "        [[0.3479, 0.6250],\n",
              "         [0.8657, 0.1172],\n",
              "         [0.4814, 0.7503]],\n",
              "\n",
              "        [[0.8206, 0.3425],\n",
              "         [0.2304, 0.1928],\n",
              "         [0.6111, 0.5644]],\n",
              "\n",
              "        [[0.4163, 0.5470],\n",
              "         [0.6173, 0.0648],\n",
              "         [0.2922, 0.8613]]])"
            ]
          },
          "metadata": {},
          "execution_count": 137
        }
      ]
    },
    {
      "cell_type": "code",
      "source": [
        "batch_ma.mean(dim=1)"
      ],
      "metadata": {
        "colab": {
          "base_uri": "https://localhost:8080/"
        },
        "id": "uxHykeu6ieBf",
        "outputId": "a3f5f649-8b14-4da7-b2df-ffbe0d42e986"
      },
      "execution_count": 136,
      "outputs": [
        {
          "output_type": "execute_result",
          "data": {
            "text/plain": [
              "tensor([[0.2488, 0.4597],\n",
              "        [0.5650, 0.4975],\n",
              "        [0.5540, 0.3666],\n",
              "        [0.4419, 0.4911]])"
            ]
          },
          "metadata": {},
          "execution_count": 136
        }
      ]
    },
    {
      "cell_type": "code",
      "source": [
        "batch_ma.sort(dim=0)"
      ],
      "metadata": {
        "colab": {
          "base_uri": "https://localhost:8080/"
        },
        "id": "rqnaaLRatOPv",
        "outputId": "dd52fda3-359d-4aeb-a224-ef4eddbd6308"
      },
      "execution_count": 142,
      "outputs": [
        {
          "output_type": "execute_result",
          "data": {
            "text/plain": [
              "torch.return_types.sort(\n",
              "values=tensor([[[0.0567, 0.3425],\n",
              "         [0.2304, 0.0648],\n",
              "         [0.2922, 0.4140]],\n",
              "\n",
              "        [[0.3479, 0.5470],\n",
              "         [0.3593, 0.1172],\n",
              "         [0.3305, 0.5644]],\n",
              "\n",
              "        [[0.4163, 0.6250],\n",
              "         [0.6173, 0.1928],\n",
              "         [0.4814, 0.7503]],\n",
              "\n",
              "        [[0.8206, 0.7254],\n",
              "         [0.8657, 0.2397],\n",
              "         [0.6111, 0.8613]]]),\n",
              "indices=tensor([[[0, 2],\n",
              "         [2, 3],\n",
              "         [3, 0]],\n",
              "\n",
              "        [[1, 3],\n",
              "         [0, 1],\n",
              "         [0, 2]],\n",
              "\n",
              "        [[3, 1],\n",
              "         [3, 2],\n",
              "         [1, 1]],\n",
              "\n",
              "        [[2, 0],\n",
              "         [1, 0],\n",
              "         [2, 3]]]))"
            ]
          },
          "metadata": {},
          "execution_count": 142
        }
      ]
    },
    {
      "cell_type": "code",
      "source": [
        "torch.clamp(batch_ma,min=10)"
      ],
      "metadata": {
        "colab": {
          "base_uri": "https://localhost:8080/"
        },
        "id": "2M8rmrHIuKMr",
        "outputId": "9f69c3af-6f6b-4f35-ba49-a0e0aa255fa1"
      },
      "execution_count": 143,
      "outputs": [
        {
          "output_type": "execute_result",
          "data": {
            "text/plain": [
              "tensor([[[10., 10.],\n",
              "         [10., 10.],\n",
              "         [10., 10.]],\n",
              "\n",
              "        [[10., 10.],\n",
              "         [10., 10.],\n",
              "         [10., 10.]],\n",
              "\n",
              "        [[10., 10.],\n",
              "         [10., 10.],\n",
              "         [10., 10.]],\n",
              "\n",
              "        [[10., 10.],\n",
              "         [10., 10.],\n",
              "         [10., 10.]]])"
            ]
          },
          "metadata": {},
          "execution_count": 143
        }
      ]
    },
    {
      "cell_type": "code",
      "source": [
        "torch.all(batch_ma)"
      ],
      "metadata": {
        "colab": {
          "base_uri": "https://localhost:8080/"
        },
        "id": "f3Lat-nmwrKX",
        "outputId": "62c1a674-d771-4335-a3b8-0cdde0a8ee98"
      },
      "execution_count": 145,
      "outputs": [
        {
          "output_type": "execute_result",
          "data": {
            "text/plain": [
              "tensor(True)"
            ]
          },
          "metadata": {},
          "execution_count": 145
        }
      ]
    },
    {
      "cell_type": "markdown",
      "source": [
        "## Indexing"
      ],
      "metadata": {
        "id": "lOE0vMVRy0c1"
      }
    },
    {
      "cell_type": "code",
      "source": [
        "data= torch.rand(50,5)"
      ],
      "metadata": {
        "id": "Xjqwviuxw5Ve"
      },
      "execution_count": 146,
      "outputs": []
    },
    {
      "cell_type": "code",
      "source": [
        "data"
      ],
      "metadata": {
        "colab": {
          "base_uri": "https://localhost:8080/"
        },
        "id": "WUZ06rPHzEEE",
        "outputId": "1864111f-6c95-4e0d-f68e-e5dbe0e92c5d"
      },
      "execution_count": 150,
      "outputs": [
        {
          "output_type": "execute_result",
          "data": {
            "text/plain": [
              "tensor([[7.8366e-01, 9.1310e-01, 6.6921e-01, 7.7524e-01, 6.1098e-01],\n",
              "        [2.2234e-01, 4.0959e-02, 6.3398e-01, 3.0789e-01, 1.9760e-01],\n",
              "        [5.1415e-01, 6.4699e-01, 2.7465e-01, 6.6093e-01, 8.3874e-01],\n",
              "        [8.5191e-01, 6.8952e-01, 5.2789e-01, 6.6804e-01, 2.2931e-01],\n",
              "        [7.1780e-01, 2.3846e-01, 2.9103e-01, 2.8260e-01, 6.0232e-02],\n",
              "        [3.0650e-01, 5.7740e-01, 4.5282e-01, 5.0954e-01, 3.1197e-01],\n",
              "        [5.2344e-01, 5.3447e-02, 8.1367e-01, 8.6995e-01, 3.9357e-01],\n",
              "        [6.6294e-01, 8.3795e-01, 4.3209e-01, 1.0471e-01, 3.5565e-01],\n",
              "        [6.9180e-01, 7.7120e-02, 9.6411e-01, 1.7223e-02, 1.7230e-01],\n",
              "        [3.7471e-01, 1.2729e-01, 7.9218e-01, 2.7884e-01, 9.3530e-01],\n",
              "        [2.8356e-01, 8.7288e-01, 1.6124e-01, 1.6178e-01, 2.3027e-01],\n",
              "        [8.5472e-01, 6.0423e-01, 5.5170e-01, 4.8241e-01, 1.3729e-01],\n",
              "        [6.3864e-01, 9.3750e-01, 1.0122e-02, 2.3067e-01, 7.5305e-01],\n",
              "        [4.6593e-02, 1.4891e-01, 4.8666e-01, 1.2118e-01, 9.9791e-02],\n",
              "        [4.0179e-01, 2.2029e-01, 8.3632e-01, 9.6427e-01, 2.8529e-01],\n",
              "        [4.1516e-01, 7.4240e-01, 6.1759e-01, 5.4441e-01, 2.1080e-01],\n",
              "        [1.1161e-01, 6.3346e-01, 8.7712e-01, 4.1500e-01, 8.8117e-02],\n",
              "        [6.0009e-02, 3.2298e-01, 1.1171e-01, 1.3794e-01, 2.9533e-01],\n",
              "        [6.7433e-01, 4.1057e-01, 1.3106e-01, 3.9213e-02, 8.3178e-01],\n",
              "        [3.1089e-01, 9.9014e-01, 1.7321e-01, 5.0314e-01, 6.3104e-01],\n",
              "        [4.2802e-01, 4.6725e-01, 3.1996e-04, 7.8496e-01, 8.0208e-01],\n",
              "        [4.4841e-01, 4.5883e-01, 8.4789e-01, 4.0300e-01, 9.5917e-01],\n",
              "        [3.7475e-01, 1.6072e-01, 9.3784e-01, 1.6077e-01, 7.0920e-01],\n",
              "        [8.5428e-01, 2.5251e-01, 8.9501e-01, 4.9020e-01, 5.0361e-01],\n",
              "        [9.9527e-01, 1.6235e-01, 8.6062e-01, 3.4608e-01, 7.0132e-01],\n",
              "        [3.3214e-01, 9.8132e-01, 8.8259e-01, 4.9138e-01, 2.6918e-01],\n",
              "        [5.8202e-01, 3.2327e-01, 9.6531e-01, 8.9374e-01, 1.1779e-01],\n",
              "        [9.4449e-01, 5.5534e-01, 9.9784e-01, 5.2980e-01, 5.0522e-01],\n",
              "        [5.5196e-01, 8.9417e-01, 9.4440e-01, 6.0599e-01, 9.5106e-01],\n",
              "        [6.0376e-01, 7.9511e-02, 3.1695e-02, 4.2285e-01, 8.9884e-01],\n",
              "        [8.1989e-01, 7.6060e-01, 2.1019e-01, 3.4762e-01, 9.6771e-01],\n",
              "        [1.6822e-01, 8.8759e-01, 1.3973e-01, 8.6837e-01, 4.1378e-01],\n",
              "        [4.6545e-01, 5.8788e-01, 3.4509e-03, 7.0094e-01, 1.7963e-02],\n",
              "        [3.3812e-01, 4.2377e-01, 5.4854e-01, 6.2897e-02, 7.2510e-01],\n",
              "        [2.1258e-02, 8.6577e-01, 8.3150e-03, 9.8394e-02, 2.2883e-01],\n",
              "        [4.5245e-01, 3.4310e-01, 6.2992e-01, 1.3784e-01, 2.0150e-01],\n",
              "        [7.2842e-01, 5.8359e-01, 6.2838e-01, 6.0764e-01, 7.8477e-01],\n",
              "        [2.9476e-01, 7.9487e-01, 3.2277e-01, 5.7386e-01, 6.0426e-01],\n",
              "        [9.8818e-01, 3.1233e-01, 9.6215e-01, 6.2575e-01, 9.7123e-01],\n",
              "        [8.8478e-01, 3.0149e-01, 7.6613e-02, 3.8393e-01, 9.7335e-01],\n",
              "        [4.2147e-01, 5.5146e-01, 7.8695e-01, 2.1717e-01, 9.9870e-01],\n",
              "        [4.4532e-01, 2.0844e-01, 5.1219e-02, 2.9278e-01, 2.1437e-01],\n",
              "        [2.5346e-01, 8.9890e-02, 6.0457e-01, 1.2118e-01, 4.2163e-01],\n",
              "        [9.3889e-01, 8.5072e-01, 9.4108e-01, 4.8507e-01, 1.1560e-01],\n",
              "        [9.7530e-01, 4.6572e-01, 9.8245e-01, 5.4387e-01, 6.6821e-01],\n",
              "        [6.8894e-01, 1.8967e-01, 2.6142e-02, 6.4395e-01, 7.5963e-01],\n",
              "        [2.8797e-01, 5.1975e-01, 9.8495e-01, 4.0947e-01, 1.2139e-01],\n",
              "        [9.2349e-01, 9.1601e-01, 6.0059e-01, 4.1600e-01, 7.0169e-01],\n",
              "        [6.0522e-01, 6.8358e-01, 7.5151e-01, 6.8444e-01, 2.5372e-01],\n",
              "        [4.5992e-01, 1.7962e-01, 8.4235e-01, 7.0510e-01, 1.0530e-01]])"
            ]
          },
          "metadata": {},
          "execution_count": 150
        }
      ]
    },
    {
      "cell_type": "code",
      "source": [
        "data[3,:]"
      ],
      "metadata": {
        "colab": {
          "base_uri": "https://localhost:8080/"
        },
        "id": "RUqGz-zOy9PE",
        "outputId": "ac46413c-a0e9-49fa-bdf6-6b77399f86cb"
      },
      "execution_count": 148,
      "outputs": [
        {
          "output_type": "execute_result",
          "data": {
            "text/plain": [
              "tensor([0.8519, 0.6895, 0.5279, 0.6680, 0.2293])"
            ]
          },
          "metadata": {},
          "execution_count": 148
        }
      ]
    },
    {
      "cell_type": "code",
      "source": [
        "data[:,0]"
      ],
      "metadata": {
        "colab": {
          "base_uri": "https://localhost:8080/"
        },
        "id": "9MZvRHGSy_md",
        "outputId": "c155cec1-01ce-4d02-9e86-ad52a090422a"
      },
      "execution_count": 149,
      "outputs": [
        {
          "output_type": "execute_result",
          "data": {
            "text/plain": [
              "tensor([0.7837, 0.2223, 0.5141, 0.8519, 0.7178, 0.3065, 0.5234, 0.6629, 0.6918,\n",
              "        0.3747, 0.2836, 0.8547, 0.6386, 0.0466, 0.4018, 0.4152, 0.1116, 0.0600,\n",
              "        0.6743, 0.3109, 0.4280, 0.4484, 0.3747, 0.8543, 0.9953, 0.3321, 0.5820,\n",
              "        0.9445, 0.5520, 0.6038, 0.8199, 0.1682, 0.4655, 0.3381, 0.0213, 0.4524,\n",
              "        0.7284, 0.2948, 0.9882, 0.8848, 0.4215, 0.4453, 0.2535, 0.9389, 0.9753,\n",
              "        0.6889, 0.2880, 0.9235, 0.6052, 0.4599])"
            ]
          },
          "metadata": {},
          "execution_count": 149
        }
      ]
    },
    {
      "cell_type": "code",
      "source": [
        "data[[2,3,4]]"
      ],
      "metadata": {
        "colab": {
          "base_uri": "https://localhost:8080/"
        },
        "id": "gnBtZbNCzGEt",
        "outputId": "e24a963b-bc15-4d14-e3b1-fff614854c70"
      },
      "execution_count": 151,
      "outputs": [
        {
          "output_type": "execute_result",
          "data": {
            "text/plain": [
              "tensor([[0.5141, 0.6470, 0.2747, 0.6609, 0.8387],\n",
              "        [0.8519, 0.6895, 0.5279, 0.6680, 0.2293],\n",
              "        [0.7178, 0.2385, 0.2910, 0.2826, 0.0602]])"
            ]
          },
          "metadata": {},
          "execution_count": 151
        }
      ]
    },
    {
      "cell_type": "code",
      "source": [
        "data[[2,3,4],[0,1,2]]"
      ],
      "metadata": {
        "colab": {
          "base_uri": "https://localhost:8080/"
        },
        "id": "EQB3Psr8zZr2",
        "outputId": "2b23f4ee-8335-4efa-90b7-d2658dcbaa82"
      },
      "execution_count": 153,
      "outputs": [
        {
          "output_type": "execute_result",
          "data": {
            "text/plain": [
              "tensor([0.5141, 0.6895, 0.2910])"
            ]
          },
          "metadata": {},
          "execution_count": 153
        }
      ]
    },
    {
      "cell_type": "code",
      "source": [
        "data[0:3,0:8]"
      ],
      "metadata": {
        "colab": {
          "base_uri": "https://localhost:8080/"
        },
        "id": "puEtsJ950v0J",
        "outputId": "e5b81e93-d45b-458b-bbc4-760410ddd7c8"
      },
      "execution_count": 155,
      "outputs": [
        {
          "output_type": "execute_result",
          "data": {
            "text/plain": [
              "tensor([[0.7837, 0.9131, 0.6692, 0.7752, 0.6110],\n",
              "        [0.2223, 0.0410, 0.6340, 0.3079, 0.1976],\n",
              "        [0.5141, 0.6470, 0.2747, 0.6609, 0.8387]])"
            ]
          },
          "metadata": {},
          "execution_count": 155
        }
      ]
    },
    {
      "cell_type": "code",
      "source": [
        "first_column = data[:,0]\n",
        "first_column[first_column>0.2]"
      ],
      "metadata": {
        "colab": {
          "base_uri": "https://localhost:8080/"
        },
        "id": "BYJ3geZp1RDB",
        "outputId": "24da6b5d-3b86-47d5-ef17-3d323df4c057"
      },
      "execution_count": 158,
      "outputs": [
        {
          "output_type": "execute_result",
          "data": {
            "text/plain": [
              "tensor([0.7837, 0.2223, 0.5141, 0.8519, 0.7178, 0.3065, 0.5234, 0.6629, 0.6918,\n",
              "        0.3747, 0.2836, 0.8547, 0.6386, 0.4018, 0.4152, 0.6743, 0.3109, 0.4280,\n",
              "        0.4484, 0.3747, 0.8543, 0.9953, 0.3321, 0.5820, 0.9445, 0.5520, 0.6038,\n",
              "        0.8199, 0.4655, 0.3381, 0.4524, 0.7284, 0.2948, 0.9882, 0.8848, 0.4215,\n",
              "        0.4453, 0.2535, 0.9389, 0.9753, 0.6889, 0.2880, 0.9235, 0.6052, 0.4599])"
            ]
          },
          "metadata": {},
          "execution_count": 158
        }
      ]
    },
    {
      "cell_type": "code",
      "source": [
        "torch.where(data>0.6, data, -99)"
      ],
      "metadata": {
        "colab": {
          "base_uri": "https://localhost:8080/"
        },
        "id": "78kW_vKH1iqS",
        "outputId": "25203a90-fab4-4488-bed8-37d16074756c"
      },
      "execution_count": 171,
      "outputs": [
        {
          "output_type": "execute_result",
          "data": {
            "text/plain": [
              "tensor([[  0.7837,   0.9131,   0.6692,   0.7752,   0.6110],\n",
              "        [-99.0000, -99.0000,   0.6340, -99.0000, -99.0000],\n",
              "        [-99.0000,   0.6470, -99.0000,   0.6609,   0.8387],\n",
              "        [  0.8519,   0.6895, -99.0000,   0.6680, -99.0000],\n",
              "        [  0.7178, -99.0000, -99.0000, -99.0000, -99.0000],\n",
              "        [-99.0000, -99.0000, -99.0000, -99.0000, -99.0000],\n",
              "        [-99.0000, -99.0000,   0.8137,   0.8699, -99.0000],\n",
              "        [  0.6629,   0.8380, -99.0000, -99.0000, -99.0000],\n",
              "        [  0.6918, -99.0000,   0.9641, -99.0000, -99.0000],\n",
              "        [-99.0000, -99.0000,   0.7922, -99.0000,   0.9353],\n",
              "        [-99.0000,   0.8729, -99.0000, -99.0000, -99.0000],\n",
              "        [  0.8547,   0.6042, -99.0000, -99.0000, -99.0000],\n",
              "        [  0.6386,   0.9375, -99.0000, -99.0000,   0.7530],\n",
              "        [-99.0000, -99.0000, -99.0000, -99.0000, -99.0000],\n",
              "        [-99.0000, -99.0000,   0.8363,   0.9643, -99.0000],\n",
              "        [-99.0000,   0.7424,   0.6176, -99.0000, -99.0000],\n",
              "        [-99.0000,   0.6335,   0.8771, -99.0000, -99.0000],\n",
              "        [-99.0000, -99.0000, -99.0000, -99.0000, -99.0000],\n",
              "        [  0.6743, -99.0000, -99.0000, -99.0000,   0.8318],\n",
              "        [-99.0000,   0.9901, -99.0000, -99.0000,   0.6310],\n",
              "        [-99.0000, -99.0000, -99.0000,   0.7850,   0.8021],\n",
              "        [-99.0000, -99.0000,   0.8479, -99.0000,   0.9592],\n",
              "        [-99.0000, -99.0000,   0.9378, -99.0000,   0.7092],\n",
              "        [  0.8543, -99.0000,   0.8950, -99.0000, -99.0000],\n",
              "        [  0.9953, -99.0000,   0.8606, -99.0000,   0.7013],\n",
              "        [-99.0000,   0.9813,   0.8826, -99.0000, -99.0000],\n",
              "        [-99.0000, -99.0000,   0.9653,   0.8937, -99.0000],\n",
              "        [  0.9445, -99.0000,   0.9978, -99.0000, -99.0000],\n",
              "        [-99.0000,   0.8942,   0.9444,   0.6060,   0.9511],\n",
              "        [  0.6038, -99.0000, -99.0000, -99.0000,   0.8988],\n",
              "        [  0.8199,   0.7606, -99.0000, -99.0000,   0.9677],\n",
              "        [-99.0000,   0.8876, -99.0000,   0.8684, -99.0000],\n",
              "        [-99.0000, -99.0000, -99.0000,   0.7009, -99.0000],\n",
              "        [-99.0000, -99.0000, -99.0000, -99.0000,   0.7251],\n",
              "        [-99.0000,   0.8658, -99.0000, -99.0000, -99.0000],\n",
              "        [-99.0000, -99.0000,   0.6299, -99.0000, -99.0000],\n",
              "        [  0.7284, -99.0000,   0.6284,   0.6076,   0.7848],\n",
              "        [-99.0000,   0.7949, -99.0000, -99.0000,   0.6043],\n",
              "        [  0.9882, -99.0000,   0.9622,   0.6257,   0.9712],\n",
              "        [  0.8848, -99.0000, -99.0000, -99.0000,   0.9733],\n",
              "        [-99.0000, -99.0000,   0.7869, -99.0000,   0.9987],\n",
              "        [-99.0000, -99.0000, -99.0000, -99.0000, -99.0000],\n",
              "        [-99.0000, -99.0000,   0.6046, -99.0000, -99.0000],\n",
              "        [  0.9389,   0.8507,   0.9411, -99.0000, -99.0000],\n",
              "        [  0.9753, -99.0000,   0.9824, -99.0000,   0.6682],\n",
              "        [  0.6889, -99.0000, -99.0000,   0.6439,   0.7596],\n",
              "        [-99.0000, -99.0000,   0.9850, -99.0000, -99.0000],\n",
              "        [  0.9235,   0.9160,   0.6006, -99.0000,   0.7017],\n",
              "        [  0.6052,   0.6836,   0.7515,   0.6844, -99.0000],\n",
              "        [-99.0000, -99.0000,   0.8423,   0.7051, -99.0000]])"
            ]
          },
          "metadata": {},
          "execution_count": 171
        }
      ]
    },
    {
      "cell_type": "code",
      "source": [
        "data"
      ],
      "metadata": {
        "colab": {
          "base_uri": "https://localhost:8080/"
        },
        "id": "Ww_b3F4Q2L8j",
        "outputId": "d3ed3ab5-6f5e-4a9e-87e6-468d441bc051"
      },
      "execution_count": 169,
      "outputs": [
        {
          "output_type": "execute_result",
          "data": {
            "text/plain": [
              "tensor([[7.8366e-01, 9.1310e-01, 6.6921e-01, 7.7524e-01, 6.1098e-01],\n",
              "        [2.2234e-01, 4.0959e-02, 6.3398e-01, 3.0789e-01, 1.9760e-01],\n",
              "        [5.1415e-01, 6.4699e-01, 2.7465e-01, 6.6093e-01, 8.3874e-01],\n",
              "        [8.5191e-01, 6.8952e-01, 5.2789e-01, 6.6804e-01, 2.2931e-01],\n",
              "        [7.1780e-01, 2.3846e-01, 2.9103e-01, 2.8260e-01, 6.0232e-02],\n",
              "        [3.0650e-01, 5.7740e-01, 4.5282e-01, 5.0954e-01, 3.1197e-01],\n",
              "        [5.2344e-01, 5.3447e-02, 8.1367e-01, 8.6995e-01, 3.9357e-01],\n",
              "        [6.6294e-01, 8.3795e-01, 4.3209e-01, 1.0471e-01, 3.5565e-01],\n",
              "        [6.9180e-01, 7.7120e-02, 9.6411e-01, 1.7223e-02, 1.7230e-01],\n",
              "        [3.7471e-01, 1.2729e-01, 7.9218e-01, 2.7884e-01, 9.3530e-01],\n",
              "        [2.8356e-01, 8.7288e-01, 1.6124e-01, 1.6178e-01, 2.3027e-01],\n",
              "        [8.5472e-01, 6.0423e-01, 5.5170e-01, 4.8241e-01, 1.3729e-01],\n",
              "        [6.3864e-01, 9.3750e-01, 1.0122e-02, 2.3067e-01, 7.5305e-01],\n",
              "        [4.6593e-02, 1.4891e-01, 4.8666e-01, 1.2118e-01, 9.9791e-02],\n",
              "        [4.0179e-01, 2.2029e-01, 8.3632e-01, 9.6427e-01, 2.8529e-01],\n",
              "        [4.1516e-01, 7.4240e-01, 6.1759e-01, 5.4441e-01, 2.1080e-01],\n",
              "        [1.1161e-01, 6.3346e-01, 8.7712e-01, 4.1500e-01, 8.8117e-02],\n",
              "        [6.0009e-02, 3.2298e-01, 1.1171e-01, 1.3794e-01, 2.9533e-01],\n",
              "        [6.7433e-01, 4.1057e-01, 1.3106e-01, 3.9213e-02, 8.3178e-01],\n",
              "        [3.1089e-01, 9.9014e-01, 1.7321e-01, 5.0314e-01, 6.3104e-01],\n",
              "        [4.2802e-01, 4.6725e-01, 3.1996e-04, 7.8496e-01, 8.0208e-01],\n",
              "        [4.4841e-01, 4.5883e-01, 8.4789e-01, 4.0300e-01, 9.5917e-01],\n",
              "        [3.7475e-01, 1.6072e-01, 9.3784e-01, 1.6077e-01, 7.0920e-01],\n",
              "        [8.5428e-01, 2.5251e-01, 8.9501e-01, 4.9020e-01, 5.0361e-01],\n",
              "        [9.9527e-01, 1.6235e-01, 8.6062e-01, 3.4608e-01, 7.0132e-01],\n",
              "        [3.3214e-01, 9.8132e-01, 8.8259e-01, 4.9138e-01, 2.6918e-01],\n",
              "        [5.8202e-01, 3.2327e-01, 9.6531e-01, 8.9374e-01, 1.1779e-01],\n",
              "        [9.4449e-01, 5.5534e-01, 9.9784e-01, 5.2980e-01, 5.0522e-01],\n",
              "        [5.5196e-01, 8.9417e-01, 9.4440e-01, 6.0599e-01, 9.5106e-01],\n",
              "        [6.0376e-01, 7.9511e-02, 3.1695e-02, 4.2285e-01, 8.9884e-01],\n",
              "        [8.1989e-01, 7.6060e-01, 2.1019e-01, 3.4762e-01, 9.6771e-01],\n",
              "        [1.6822e-01, 8.8759e-01, 1.3973e-01, 8.6837e-01, 4.1378e-01],\n",
              "        [4.6545e-01, 5.8788e-01, 3.4509e-03, 7.0094e-01, 1.7963e-02],\n",
              "        [3.3812e-01, 4.2377e-01, 5.4854e-01, 6.2897e-02, 7.2510e-01],\n",
              "        [2.1258e-02, 8.6577e-01, 8.3150e-03, 9.8394e-02, 2.2883e-01],\n",
              "        [4.5245e-01, 3.4310e-01, 6.2992e-01, 1.3784e-01, 2.0150e-01],\n",
              "        [7.2842e-01, 5.8359e-01, 6.2838e-01, 6.0764e-01, 7.8477e-01],\n",
              "        [2.9476e-01, 7.9487e-01, 3.2277e-01, 5.7386e-01, 6.0426e-01],\n",
              "        [9.8818e-01, 3.1233e-01, 9.6215e-01, 6.2575e-01, 9.7123e-01],\n",
              "        [8.8478e-01, 3.0149e-01, 7.6613e-02, 3.8393e-01, 9.7335e-01],\n",
              "        [4.2147e-01, 5.5146e-01, 7.8695e-01, 2.1717e-01, 9.9870e-01],\n",
              "        [4.4532e-01, 2.0844e-01, 5.1219e-02, 2.9278e-01, 2.1437e-01],\n",
              "        [2.5346e-01, 8.9890e-02, 6.0457e-01, 1.2118e-01, 4.2163e-01],\n",
              "        [9.3889e-01, 8.5072e-01, 9.4108e-01, 4.8507e-01, 1.1560e-01],\n",
              "        [9.7530e-01, 4.6572e-01, 9.8245e-01, 5.4387e-01, 6.6821e-01],\n",
              "        [6.8894e-01, 1.8967e-01, 2.6142e-02, 6.4395e-01, 7.5963e-01],\n",
              "        [2.8797e-01, 5.1975e-01, 9.8495e-01, 4.0947e-01, 1.2139e-01],\n",
              "        [9.2349e-01, 9.1601e-01, 6.0059e-01, 4.1600e-01, 7.0169e-01],\n",
              "        [6.0522e-01, 6.8358e-01, 7.5151e-01, 6.8444e-01, 2.5372e-01],\n",
              "        [4.5992e-01, 1.7962e-01, 8.4235e-01, 7.0510e-01, 1.0530e-01]])"
            ]
          },
          "metadata": {},
          "execution_count": 169
        }
      ]
    },
    {
      "cell_type": "markdown",
      "source": [
        "## Reshaping"
      ],
      "metadata": {
        "id": "LMpDzY949GLN"
      }
    },
    {
      "cell_type": "code",
      "source": [
        "# they do the samething so what is the diff ????\n",
        "data.view(25,10)\n",
        "data.reshape(25,10) # use this allways"
      ],
      "metadata": {
        "colab": {
          "base_uri": "https://localhost:8080/"
        },
        "id": "6HHie5725tEb",
        "outputId": "2d958874-0f39-4d94-f8c2-364f62fc7eb4"
      },
      "execution_count": 173,
      "outputs": [
        {
          "output_type": "execute_result",
          "data": {
            "text/plain": [
              "tensor([[7.8366e-01, 9.1310e-01, 6.6921e-01, 7.7524e-01, 6.1098e-01, 2.2234e-01,\n",
              "         4.0959e-02, 6.3398e-01, 3.0789e-01, 1.9760e-01],\n",
              "        [5.1415e-01, 6.4699e-01, 2.7465e-01, 6.6093e-01, 8.3874e-01, 8.5191e-01,\n",
              "         6.8952e-01, 5.2789e-01, 6.6804e-01, 2.2931e-01],\n",
              "        [7.1780e-01, 2.3846e-01, 2.9103e-01, 2.8260e-01, 6.0232e-02, 3.0650e-01,\n",
              "         5.7740e-01, 4.5282e-01, 5.0954e-01, 3.1197e-01],\n",
              "        [5.2344e-01, 5.3447e-02, 8.1367e-01, 8.6995e-01, 3.9357e-01, 6.6294e-01,\n",
              "         8.3795e-01, 4.3209e-01, 1.0471e-01, 3.5565e-01],\n",
              "        [6.9180e-01, 7.7120e-02, 9.6411e-01, 1.7223e-02, 1.7230e-01, 3.7471e-01,\n",
              "         1.2729e-01, 7.9218e-01, 2.7884e-01, 9.3530e-01],\n",
              "        [2.8356e-01, 8.7288e-01, 1.6124e-01, 1.6178e-01, 2.3027e-01, 8.5472e-01,\n",
              "         6.0423e-01, 5.5170e-01, 4.8241e-01, 1.3729e-01],\n",
              "        [6.3864e-01, 9.3750e-01, 1.0122e-02, 2.3067e-01, 7.5305e-01, 4.6593e-02,\n",
              "         1.4891e-01, 4.8666e-01, 1.2118e-01, 9.9791e-02],\n",
              "        [4.0179e-01, 2.2029e-01, 8.3632e-01, 9.6427e-01, 2.8529e-01, 4.1516e-01,\n",
              "         7.4240e-01, 6.1759e-01, 5.4441e-01, 2.1080e-01],\n",
              "        [1.1161e-01, 6.3346e-01, 8.7712e-01, 4.1500e-01, 8.8117e-02, 6.0009e-02,\n",
              "         3.2298e-01, 1.1171e-01, 1.3794e-01, 2.9533e-01],\n",
              "        [6.7433e-01, 4.1057e-01, 1.3106e-01, 3.9213e-02, 8.3178e-01, 3.1089e-01,\n",
              "         9.9014e-01, 1.7321e-01, 5.0314e-01, 6.3104e-01],\n",
              "        [4.2802e-01, 4.6725e-01, 3.1996e-04, 7.8496e-01, 8.0208e-01, 4.4841e-01,\n",
              "         4.5883e-01, 8.4789e-01, 4.0300e-01, 9.5917e-01],\n",
              "        [3.7475e-01, 1.6072e-01, 9.3784e-01, 1.6077e-01, 7.0920e-01, 8.5428e-01,\n",
              "         2.5251e-01, 8.9501e-01, 4.9020e-01, 5.0361e-01],\n",
              "        [9.9527e-01, 1.6235e-01, 8.6062e-01, 3.4608e-01, 7.0132e-01, 3.3214e-01,\n",
              "         9.8132e-01, 8.8259e-01, 4.9138e-01, 2.6918e-01],\n",
              "        [5.8202e-01, 3.2327e-01, 9.6531e-01, 8.9374e-01, 1.1779e-01, 9.4449e-01,\n",
              "         5.5534e-01, 9.9784e-01, 5.2980e-01, 5.0522e-01],\n",
              "        [5.5196e-01, 8.9417e-01, 9.4440e-01, 6.0599e-01, 9.5106e-01, 6.0376e-01,\n",
              "         7.9511e-02, 3.1695e-02, 4.2285e-01, 8.9884e-01],\n",
              "        [8.1989e-01, 7.6060e-01, 2.1019e-01, 3.4762e-01, 9.6771e-01, 1.6822e-01,\n",
              "         8.8759e-01, 1.3973e-01, 8.6837e-01, 4.1378e-01],\n",
              "        [4.6545e-01, 5.8788e-01, 3.4509e-03, 7.0094e-01, 1.7963e-02, 3.3812e-01,\n",
              "         4.2377e-01, 5.4854e-01, 6.2897e-02, 7.2510e-01],\n",
              "        [2.1258e-02, 8.6577e-01, 8.3150e-03, 9.8394e-02, 2.2883e-01, 4.5245e-01,\n",
              "         3.4310e-01, 6.2992e-01, 1.3784e-01, 2.0150e-01],\n",
              "        [7.2842e-01, 5.8359e-01, 6.2838e-01, 6.0764e-01, 7.8477e-01, 2.9476e-01,\n",
              "         7.9487e-01, 3.2277e-01, 5.7386e-01, 6.0426e-01],\n",
              "        [9.8818e-01, 3.1233e-01, 9.6215e-01, 6.2575e-01, 9.7123e-01, 8.8478e-01,\n",
              "         3.0149e-01, 7.6613e-02, 3.8393e-01, 9.7335e-01],\n",
              "        [4.2147e-01, 5.5146e-01, 7.8695e-01, 2.1717e-01, 9.9870e-01, 4.4532e-01,\n",
              "         2.0844e-01, 5.1219e-02, 2.9278e-01, 2.1437e-01],\n",
              "        [2.5346e-01, 8.9890e-02, 6.0457e-01, 1.2118e-01, 4.2163e-01, 9.3889e-01,\n",
              "         8.5072e-01, 9.4108e-01, 4.8507e-01, 1.1560e-01],\n",
              "        [9.7530e-01, 4.6572e-01, 9.8245e-01, 5.4387e-01, 6.6821e-01, 6.8894e-01,\n",
              "         1.8967e-01, 2.6142e-02, 6.4395e-01, 7.5963e-01],\n",
              "        [2.8797e-01, 5.1975e-01, 9.8495e-01, 4.0947e-01, 1.2139e-01, 9.2349e-01,\n",
              "         9.1601e-01, 6.0059e-01, 4.1600e-01, 7.0169e-01],\n",
              "        [6.0522e-01, 6.8358e-01, 7.5151e-01, 6.8444e-01, 2.5372e-01, 4.5992e-01,\n",
              "         1.7962e-01, 8.4235e-01, 7.0510e-01, 1.0530e-01]])"
            ]
          },
          "metadata": {},
          "execution_count": 173
        }
      ]
    },
    {
      "cell_type": "code",
      "source": [
        "one = torch.rand((3,4))\n",
        "one"
      ],
      "metadata": {
        "colab": {
          "base_uri": "https://localhost:8080/"
        },
        "id": "56p4dZpO9MwH",
        "outputId": "95f2b99b-a8eb-4636-a330-3c1c025ba288"
      },
      "execution_count": 187,
      "outputs": [
        {
          "output_type": "execute_result",
          "data": {
            "text/plain": [
              "tensor([[0.2101, 0.6435, 0.0388, 0.8100],\n",
              "        [0.1812, 0.3937, 0.4434, 0.1169],\n",
              "        [0.3914, 0.4114, 0.7601, 0.5233]])"
            ]
          },
          "metadata": {},
          "execution_count": 187
        }
      ]
    },
    {
      "cell_type": "code",
      "source": [
        "two = torch.rand(3,4)\n",
        "two"
      ],
      "metadata": {
        "colab": {
          "base_uri": "https://localhost:8080/"
        },
        "id": "_D2BCEgB9owm",
        "outputId": "d9ba8f79-44c4-47a6-aee8-ce96338295e0"
      },
      "execution_count": 188,
      "outputs": [
        {
          "output_type": "execute_result",
          "data": {
            "text/plain": [
              "tensor([[0.4420, 0.5453, 0.6664, 0.1937],\n",
              "        [0.9433, 0.3839, 0.9237, 0.3278],\n",
              "        [0.5156, 0.5111, 0.2954, 0.7810]])"
            ]
          },
          "metadata": {},
          "execution_count": 188
        }
      ]
    },
    {
      "cell_type": "code",
      "source": [
        "cat = torch.cat((one,two),axis=1 )\n",
        "print('shape = ', cat.shape)\n",
        "print(cat)"
      ],
      "metadata": {
        "colab": {
          "base_uri": "https://localhost:8080/"
        },
        "id": "GjUagr-A_kC_",
        "outputId": "64d4ebbc-4877-4cd0-b09f-22e9d7057af1"
      },
      "execution_count": 194,
      "outputs": [
        {
          "output_type": "stream",
          "name": "stdout",
          "text": [
            "shape =  torch.Size([3, 8])\n",
            "tensor([[0.2101, 0.6435, 0.0388, 0.8100, 0.4420, 0.5453, 0.6664, 0.1937],\n",
            "        [0.1812, 0.3937, 0.4434, 0.1169, 0.9433, 0.3839, 0.9237, 0.3278],\n",
            "        [0.3914, 0.4114, 0.7601, 0.5233, 0.5156, 0.5111, 0.2954, 0.7810]])\n"
          ]
        }
      ]
    },
    {
      "cell_type": "code",
      "source": [
        "cat.view(-1) # flatten"
      ],
      "metadata": {
        "colab": {
          "base_uri": "https://localhost:8080/"
        },
        "id": "qR0CKo3Q_80a",
        "outputId": "584ca1f0-a2b8-4233-93bc-b10f3d522b57"
      },
      "execution_count": 195,
      "outputs": [
        {
          "output_type": "execute_result",
          "data": {
            "text/plain": [
              "tensor([0.2101, 0.6435, 0.0388, 0.8100, 0.4420, 0.5453, 0.6664, 0.1937, 0.1812,\n",
              "        0.3937, 0.4434, 0.1169, 0.9433, 0.3839, 0.9237, 0.3278, 0.3914, 0.4114,\n",
              "        0.7601, 0.5233, 0.5156, 0.5111, 0.2954, 0.7810])"
            ]
          },
          "metadata": {},
          "execution_count": 195
        }
      ]
    },
    {
      "cell_type": "code",
      "source": [
        "batch=64\n",
        "z = torch.rand(batch,3,4)\n",
        "cc = z.view(batch,-1)\n",
        "cc.shape"
      ],
      "metadata": {
        "colab": {
          "base_uri": "https://localhost:8080/"
        },
        "id": "nhtSRdnKBrw7",
        "outputId": "91395b85-4245-42a5-9d95-6e840b9abe64"
      },
      "execution_count": 196,
      "outputs": [
        {
          "output_type": "execute_result",
          "data": {
            "text/plain": [
              "torch.Size([64, 12])"
            ]
          },
          "metadata": {},
          "execution_count": 196
        }
      ]
    },
    {
      "cell_type": "code",
      "source": [
        "z.shape"
      ],
      "metadata": {
        "colab": {
          "base_uri": "https://localhost:8080/"
        },
        "id": "tp-TlDesCFrV",
        "outputId": "ae669074-55ab-40cd-f5c0-01ceb9feded5"
      },
      "execution_count": 197,
      "outputs": [
        {
          "output_type": "execute_result",
          "data": {
            "text/plain": [
              "torch.Size([64, 3, 4])"
            ]
          },
          "metadata": {},
          "execution_count": 197
        }
      ]
    },
    {
      "cell_type": "code",
      "source": [
        "permuted_z = z.permute(0,2,1)\n",
        "permuted_z.shape"
      ],
      "metadata": {
        "colab": {
          "base_uri": "https://localhost:8080/"
        },
        "id": "MJIWet1BC1cr",
        "outputId": "2f256a50-78ba-4fb8-a099-eb74fe490011"
      },
      "execution_count": 200,
      "outputs": [
        {
          "output_type": "execute_result",
          "data": {
            "text/plain": [
              "torch.Size([64, 4, 3])"
            ]
          },
          "metadata": {},
          "execution_count": 200
        }
      ]
    },
    {
      "cell_type": "code",
      "source": [
        "z"
      ],
      "metadata": {
        "colab": {
          "base_uri": "https://localhost:8080/"
        },
        "id": "g-Q_4XEJDF_T",
        "outputId": "e92bfd52-c81a-49cd-b26f-e2839307a74d"
      },
      "execution_count": 202,
      "outputs": [
        {
          "output_type": "execute_result",
          "data": {
            "text/plain": [
              "tensor([[[5.5513e-02, 7.6243e-01, 3.0147e-01, 7.9189e-01],\n",
              "         [9.5505e-01, 7.6108e-01, 9.9913e-01, 6.4406e-01],\n",
              "         [8.0851e-01, 1.7901e-02, 7.8351e-01, 1.3741e-01]],\n",
              "\n",
              "        [[8.4228e-01, 3.2384e-01, 2.7464e-02, 3.6219e-01],\n",
              "         [8.0195e-02, 2.3335e-01, 6.7690e-01, 2.3691e-01],\n",
              "         [3.3120e-01, 6.9655e-01, 7.4720e-01, 6.3071e-01]],\n",
              "\n",
              "        [[4.9614e-01, 2.9107e-01, 3.5163e-01, 2.6293e-01],\n",
              "         [6.1749e-01, 6.7390e-01, 4.1087e-01, 1.1985e-01],\n",
              "         [3.9350e-01, 9.7212e-01, 6.2843e-02, 8.4783e-01]],\n",
              "\n",
              "        [[5.8432e-01, 3.4096e-02, 6.9040e-01, 9.6894e-02],\n",
              "         [1.5840e-01, 8.0570e-01, 1.2484e-01, 9.9874e-01],\n",
              "         [2.6486e-01, 6.7320e-01, 4.0321e-01, 2.8052e-01]],\n",
              "\n",
              "        [[9.3793e-01, 7.2502e-01, 7.0415e-01, 8.0265e-01],\n",
              "         [7.7074e-01, 1.8211e-01, 3.6432e-02, 5.5389e-01],\n",
              "         [8.4656e-01, 4.5828e-01, 2.7313e-01, 4.2464e-01]],\n",
              "\n",
              "        [[2.9667e-01, 2.4634e-01, 8.8384e-01, 2.4490e-01],\n",
              "         [2.6870e-01, 5.8640e-01, 5.0125e-01, 4.0789e-01],\n",
              "         [6.7494e-01, 8.0516e-03, 2.6516e-01, 6.0526e-01]],\n",
              "\n",
              "        [[6.6318e-01, 1.3063e-01, 9.7145e-01, 7.9561e-01],\n",
              "         [2.4222e-02, 8.5065e-01, 7.0657e-02, 4.7966e-01],\n",
              "         [8.7004e-01, 8.0179e-02, 8.5120e-01, 5.2144e-01]],\n",
              "\n",
              "        [[6.1021e-01, 7.9462e-01, 8.2535e-01, 4.7376e-01],\n",
              "         [2.3742e-01, 9.2487e-01, 4.7320e-01, 3.7564e-01],\n",
              "         [1.8188e-01, 6.1341e-01, 5.9176e-01, 9.3043e-01]],\n",
              "\n",
              "        [[2.5594e-01, 6.1490e-01, 3.3969e-03, 9.4133e-01],\n",
              "         [6.4493e-01, 4.0747e-01, 7.4691e-01, 3.8366e-01],\n",
              "         [3.1565e-01, 8.0998e-01, 6.7080e-01, 6.4144e-01]],\n",
              "\n",
              "        [[6.0903e-01, 4.4730e-01, 5.6193e-01, 6.0117e-02],\n",
              "         [1.5416e-01, 5.1202e-01, 5.6089e-02, 9.3911e-01],\n",
              "         [6.7392e-01, 2.3233e-01, 6.2615e-01, 1.1251e-01]],\n",
              "\n",
              "        [[9.8022e-01, 7.3975e-04, 2.0897e-01, 9.1095e-01],\n",
              "         [3.9418e-01, 4.1232e-03, 9.0500e-01, 3.6296e-01],\n",
              "         [7.9292e-01, 6.6408e-01, 5.9929e-01, 1.5649e-01]],\n",
              "\n",
              "        [[4.7446e-01, 1.6822e-01, 5.3664e-01, 4.2248e-01],\n",
              "         [6.8226e-01, 5.9306e-02, 2.9167e-02, 5.7172e-01],\n",
              "         [8.7206e-01, 5.0109e-01, 7.4399e-02, 4.0329e-01]],\n",
              "\n",
              "        [[8.1711e-01, 6.9032e-02, 8.5334e-01, 1.5026e-01],\n",
              "         [7.4747e-01, 6.7796e-01, 5.6580e-01, 6.5984e-01],\n",
              "         [7.4322e-01, 9.8727e-01, 6.0582e-02, 5.8285e-01]],\n",
              "\n",
              "        [[6.9577e-01, 2.9046e-01, 6.4940e-01, 2.3589e-01],\n",
              "         [9.6964e-01, 2.1390e-01, 9.2563e-01, 8.4259e-01],\n",
              "         [4.2620e-01, 9.3528e-01, 1.1671e-01, 4.7049e-01]],\n",
              "\n",
              "        [[7.6422e-01, 6.4116e-01, 6.7955e-01, 6.7397e-01],\n",
              "         [7.4835e-01, 1.1494e-01, 4.7736e-01, 7.8280e-01],\n",
              "         [9.0186e-01, 1.8550e-01, 2.6762e-01, 2.0144e-01]],\n",
              "\n",
              "        [[7.9459e-01, 1.3563e-01, 7.2857e-01, 2.0136e-01],\n",
              "         [6.2325e-02, 7.2523e-01, 9.9547e-01, 8.0575e-01],\n",
              "         [2.1778e-01, 5.3151e-01, 2.0312e-01, 9.3876e-01]],\n",
              "\n",
              "        [[6.2010e-01, 8.2173e-01, 3.2952e-01, 9.1674e-01],\n",
              "         [8.3359e-02, 8.4405e-01, 2.6560e-01, 2.0032e-01],\n",
              "         [1.3422e-01, 5.9464e-01, 7.1479e-01, 7.7833e-01]],\n",
              "\n",
              "        [[9.2149e-02, 2.2849e-01, 1.1856e-01, 1.5930e-01],\n",
              "         [9.8177e-01, 5.7550e-01, 4.7671e-01, 3.3652e-01],\n",
              "         [7.0294e-01, 8.0690e-02, 4.2915e-02, 5.4769e-02]],\n",
              "\n",
              "        [[7.2091e-01, 8.4263e-01, 7.1901e-01, 4.8820e-01],\n",
              "         [8.2796e-02, 7.4022e-01, 9.1181e-01, 7.3414e-01],\n",
              "         [2.2925e-01, 4.3535e-01, 3.8410e-01, 6.5681e-01]],\n",
              "\n",
              "        [[2.9968e-01, 6.9185e-01, 5.0672e-01, 4.6994e-01],\n",
              "         [4.1344e-01, 5.2511e-01, 6.2983e-01, 5.1863e-01],\n",
              "         [6.2988e-01, 1.8425e-01, 1.3983e-01, 2.8756e-01]],\n",
              "\n",
              "        [[9.9455e-01, 7.3395e-02, 4.0933e-01, 5.7535e-01],\n",
              "         [8.8829e-01, 7.6713e-01, 8.1952e-01, 4.4676e-01],\n",
              "         [9.7741e-01, 8.3980e-01, 1.1234e-01, 6.0893e-01]],\n",
              "\n",
              "        [[3.0192e-01, 6.5032e-01, 8.2099e-01, 1.2206e-01],\n",
              "         [2.7079e-02, 8.5267e-01, 3.8401e-01, 7.0260e-01],\n",
              "         [6.9065e-02, 2.2522e-01, 3.9781e-02, 6.0250e-02]],\n",
              "\n",
              "        [[1.3782e-01, 2.7342e-02, 9.7985e-01, 1.8145e-01],\n",
              "         [3.1433e-01, 9.4325e-01, 4.4857e-01, 8.9514e-01],\n",
              "         [8.7872e-01, 3.2937e-01, 9.5418e-01, 5.7849e-01]],\n",
              "\n",
              "        [[5.0614e-01, 4.9487e-01, 8.0867e-01, 3.9024e-01],\n",
              "         [8.9789e-01, 7.9511e-01, 5.1713e-01, 7.3419e-02],\n",
              "         [1.5897e-02, 7.0842e-01, 9.7124e-01, 1.8254e-01]],\n",
              "\n",
              "        [[3.8089e-02, 9.8139e-01, 1.6659e-01, 9.8789e-01],\n",
              "         [7.8921e-01, 5.5715e-02, 3.8735e-01, 8.1929e-01],\n",
              "         [9.5242e-01, 1.5005e-01, 1.9893e-01, 2.1128e-01]],\n",
              "\n",
              "        [[7.4066e-01, 9.7939e-01, 7.6709e-01, 8.1137e-02],\n",
              "         [7.4544e-02, 5.2298e-02, 2.6867e-01, 3.7057e-01],\n",
              "         [9.6860e-01, 4.8320e-01, 6.9281e-01, 9.9251e-01]],\n",
              "\n",
              "        [[3.6607e-01, 5.5611e-01, 1.1247e-02, 5.5764e-01],\n",
              "         [1.5468e-01, 6.8026e-01, 7.2037e-01, 9.5551e-01],\n",
              "         [2.4397e-01, 3.0075e-01, 4.6786e-01, 5.7774e-01]],\n",
              "\n",
              "        [[2.2147e-01, 6.2965e-01, 2.0542e-01, 4.6770e-01],\n",
              "         [5.2481e-01, 4.1046e-01, 3.4832e-01, 2.8927e-01],\n",
              "         [7.8432e-01, 9.6293e-01, 7.8486e-01, 6.8733e-01]],\n",
              "\n",
              "        [[9.2144e-01, 1.1890e-02, 7.8822e-01, 8.0460e-01],\n",
              "         [8.6597e-01, 8.0823e-01, 2.5631e-01, 6.8280e-02],\n",
              "         [9.5439e-02, 2.1052e-01, 9.9485e-01, 1.5545e-02]],\n",
              "\n",
              "        [[8.2224e-01, 1.8629e-01, 2.3386e-01, 4.2540e-01],\n",
              "         [9.2649e-01, 7.3567e-01, 3.6658e-01, 4.2402e-01],\n",
              "         [3.8145e-01, 5.0622e-01, 7.0072e-01, 4.8882e-01]],\n",
              "\n",
              "        [[7.8461e-01, 4.7792e-01, 6.2720e-01, 6.7814e-01],\n",
              "         [3.9763e-01, 3.4845e-01, 1.5300e-01, 8.1557e-01],\n",
              "         [8.8594e-01, 4.9735e-01, 3.8128e-01, 6.6725e-01]],\n",
              "\n",
              "        [[4.2266e-01, 2.7734e-01, 4.8196e-01, 2.0815e-01],\n",
              "         [9.1293e-01, 9.2404e-01, 1.8663e-01, 3.9181e-01],\n",
              "         [5.8049e-01, 3.5110e-01, 6.8935e-01, 8.0160e-01]],\n",
              "\n",
              "        [[7.0808e-01, 6.1860e-01, 9.4991e-02, 1.9815e-01],\n",
              "         [1.6953e-01, 3.6069e-01, 2.5881e-01, 6.2672e-01],\n",
              "         [6.5509e-01, 8.6889e-01, 8.1148e-01, 4.6119e-02]],\n",
              "\n",
              "        [[7.6375e-01, 9.4562e-02, 4.5854e-01, 8.5993e-01],\n",
              "         [3.2471e-01, 8.7935e-01, 9.2896e-01, 3.2615e-01],\n",
              "         [9.6847e-01, 2.9638e-01, 3.4096e-01, 1.2029e-01]],\n",
              "\n",
              "        [[2.2182e-01, 4.2140e-01, 3.3077e-02, 3.2850e-01],\n",
              "         [9.8522e-01, 9.9094e-01, 1.2428e-01, 6.4661e-01],\n",
              "         [1.2386e-01, 9.1501e-01, 9.6746e-01, 6.1198e-01]],\n",
              "\n",
              "        [[5.3450e-01, 5.7184e-01, 6.4759e-01, 5.0019e-01],\n",
              "         [4.9844e-01, 4.5045e-01, 1.9650e-01, 6.1216e-03],\n",
              "         [4.9009e-01, 1.9832e-01, 8.5714e-02, 7.2529e-01]],\n",
              "\n",
              "        [[6.5937e-02, 5.8411e-01, 7.7444e-02, 2.4302e-01],\n",
              "         [7.5441e-01, 8.7269e-01, 1.7003e-01, 1.9603e-02],\n",
              "         [9.9835e-01, 2.4476e-01, 5.9539e-02, 5.7867e-01]],\n",
              "\n",
              "        [[4.4965e-01, 7.0273e-01, 6.7636e-01, 3.5554e-01],\n",
              "         [9.0783e-01, 3.1973e-01, 4.6275e-01, 9.2183e-01],\n",
              "         [7.1856e-01, 8.6844e-01, 9.9927e-01, 7.8477e-01]],\n",
              "\n",
              "        [[8.7881e-01, 4.1922e-01, 2.8344e-02, 4.2606e-01],\n",
              "         [9.2687e-02, 2.5871e-01, 3.9214e-01, 7.7731e-01],\n",
              "         [5.7636e-01, 6.0960e-01, 2.8480e-01, 7.8891e-01]],\n",
              "\n",
              "        [[3.0133e-02, 7.0294e-01, 8.6535e-01, 1.4290e-01],\n",
              "         [6.8683e-01, 3.8948e-02, 4.7441e-01, 7.1404e-01],\n",
              "         [1.9613e-01, 3.4993e-01, 6.7728e-02, 9.1778e-01]],\n",
              "\n",
              "        [[4.6920e-01, 6.7725e-03, 8.0304e-01, 6.3223e-01],\n",
              "         [7.2096e-02, 7.6342e-01, 3.6429e-01, 1.3188e-01],\n",
              "         [8.9814e-01, 2.4113e-01, 2.0290e-01, 6.7977e-01]],\n",
              "\n",
              "        [[5.7049e-02, 1.5235e-01, 8.1360e-01, 1.1844e-01],\n",
              "         [3.6562e-01, 2.2912e-01, 5.5887e-01, 7.2822e-01],\n",
              "         [9.6423e-01, 3.5827e-01, 5.2684e-01, 8.5108e-02]],\n",
              "\n",
              "        [[7.7353e-01, 8.2892e-02, 2.8772e-01, 6.8928e-01],\n",
              "         [8.4368e-01, 1.7058e-02, 7.0117e-01, 4.0122e-02],\n",
              "         [1.3976e-01, 9.7851e-02, 8.5278e-01, 6.5939e-01]],\n",
              "\n",
              "        [[6.9385e-01, 6.2586e-01, 8.2877e-02, 6.6009e-01],\n",
              "         [5.0941e-01, 1.7689e-01, 5.4101e-01, 4.5605e-02],\n",
              "         [9.1646e-01, 8.1334e-01, 1.0305e-01, 4.4850e-01]],\n",
              "\n",
              "        [[5.6966e-02, 8.0732e-01, 9.1686e-01, 9.0199e-02],\n",
              "         [9.0502e-01, 4.8846e-01, 6.7230e-01, 5.0906e-01],\n",
              "         [1.9284e-02, 3.9068e-01, 3.5597e-02, 5.4521e-01]],\n",
              "\n",
              "        [[7.1632e-01, 3.6978e-01, 4.4767e-02, 7.7789e-02],\n",
              "         [7.5649e-01, 9.0570e-01, 2.1361e-02, 9.4883e-02],\n",
              "         [1.4851e-02, 4.5400e-01, 8.9844e-01, 8.9377e-01]],\n",
              "\n",
              "        [[3.3307e-01, 3.0405e-01, 2.5844e-01, 4.9591e-01],\n",
              "         [6.1898e-01, 9.8700e-01, 6.0728e-02, 3.5904e-01],\n",
              "         [5.6364e-01, 4.5521e-01, 9.4009e-01, 4.4145e-01]],\n",
              "\n",
              "        [[4.2452e-01, 2.3676e-01, 7.8626e-01, 5.4857e-01],\n",
              "         [7.3893e-01, 8.2884e-01, 4.5479e-01, 5.0203e-01],\n",
              "         [4.8391e-01, 7.2947e-01, 9.3409e-01, 5.0963e-01]],\n",
              "\n",
              "        [[8.4688e-01, 9.7033e-01, 1.5168e-01, 1.6605e-01],\n",
              "         [8.0864e-01, 8.3601e-01, 3.7428e-01, 6.4743e-01],\n",
              "         [3.7630e-01, 6.9519e-01, 6.7132e-01, 6.6553e-01]],\n",
              "\n",
              "        [[3.5340e-01, 3.8599e-01, 5.8579e-01, 2.7897e-01],\n",
              "         [8.2096e-02, 4.8873e-01, 8.1219e-01, 5.0454e-01],\n",
              "         [7.8673e-01, 1.7945e-01, 2.3713e-01, 1.9580e-01]],\n",
              "\n",
              "        [[6.0310e-01, 8.5284e-01, 3.7832e-01, 5.0585e-01],\n",
              "         [2.6929e-01, 5.5362e-01, 3.7808e-01, 7.9934e-01],\n",
              "         [3.1934e-02, 9.8047e-01, 2.9083e-02, 6.5792e-01]],\n",
              "\n",
              "        [[4.5262e-01, 4.8084e-01, 8.9905e-01, 3.7740e-01],\n",
              "         [1.9999e-01, 3.9874e-01, 5.1289e-01, 4.1164e-03],\n",
              "         [4.4273e-01, 8.3536e-01, 7.8067e-01, 9.9360e-02]],\n",
              "\n",
              "        [[6.8937e-01, 5.4594e-01, 6.1859e-01, 7.7131e-01],\n",
              "         [1.6048e-01, 6.0164e-01, 4.9577e-01, 6.0092e-01],\n",
              "         [9.4906e-01, 2.1478e-01, 1.6226e-01, 5.1867e-01]],\n",
              "\n",
              "        [[9.1062e-01, 9.3686e-01, 3.5791e-01, 5.9131e-01],\n",
              "         [3.4589e-01, 1.2101e-01, 5.5395e-01, 9.7637e-01],\n",
              "         [2.1901e-01, 1.7991e-01, 3.6975e-01, 4.2416e-01]],\n",
              "\n",
              "        [[1.2927e-02, 8.1097e-01, 5.6715e-01, 8.3062e-01],\n",
              "         [5.8467e-01, 3.5816e-01, 3.5279e-01, 9.0655e-01],\n",
              "         [9.9714e-01, 1.2291e-01, 6.3626e-01, 6.7235e-01]],\n",
              "\n",
              "        [[6.4199e-01, 6.8898e-02, 4.9957e-01, 6.3457e-01],\n",
              "         [6.4344e-01, 8.1835e-01, 3.3587e-01, 2.4310e-01],\n",
              "         [1.4065e-02, 9.2908e-02, 7.7225e-01, 6.4525e-01]],\n",
              "\n",
              "        [[5.0732e-01, 4.8395e-01, 5.4494e-01, 7.5996e-02],\n",
              "         [2.6729e-01, 6.5792e-01, 1.2332e-01, 3.9004e-01],\n",
              "         [1.1331e-01, 4.0974e-01, 3.1217e-01, 1.3060e-01]],\n",
              "\n",
              "        [[5.2591e-01, 8.4640e-01, 3.6897e-01, 7.9811e-01],\n",
              "         [6.7614e-01, 4.6866e-01, 6.8421e-01, 7.1486e-01],\n",
              "         [2.0287e-01, 3.6699e-01, 5.4254e-01, 9.5223e-01]],\n",
              "\n",
              "        [[8.1524e-01, 6.9465e-01, 5.5920e-01, 3.3306e-01],\n",
              "         [7.5018e-01, 9.5175e-01, 1.7194e-01, 8.0189e-01],\n",
              "         [6.3568e-02, 6.3562e-01, 6.6956e-01, 5.1191e-02]],\n",
              "\n",
              "        [[5.2697e-01, 4.4574e-01, 6.1409e-01, 9.4903e-01],\n",
              "         [8.8675e-02, 4.8086e-01, 9.9575e-01, 6.8764e-01],\n",
              "         [7.8627e-01, 6.4877e-02, 8.7658e-01, 6.4076e-01]],\n",
              "\n",
              "        [[5.8475e-01, 1.6634e-01, 6.9902e-01, 5.9268e-01],\n",
              "         [3.4604e-01, 9.7493e-01, 9.3280e-01, 1.9155e-01],\n",
              "         [5.8936e-01, 1.4510e-01, 7.0923e-02, 9.3500e-01]],\n",
              "\n",
              "        [[1.2003e-01, 8.4581e-01, 1.4172e-01, 2.0376e-01],\n",
              "         [2.7811e-01, 7.8000e-01, 8.3692e-01, 7.3234e-01],\n",
              "         [4.7481e-01, 9.6070e-02, 1.2390e-01, 1.8200e-02]],\n",
              "\n",
              "        [[4.6224e-01, 3.1359e-01, 5.9729e-01, 5.6653e-01],\n",
              "         [3.6437e-01, 6.3162e-01, 4.3509e-01, 1.6142e-01],\n",
              "         [8.5731e-01, 5.5837e-01, 3.6608e-01, 3.0828e-01]],\n",
              "\n",
              "        [[7.5426e-01, 2.1147e-01, 1.0844e-01, 9.2708e-01],\n",
              "         [4.6341e-01, 4.6792e-01, 5.0055e-01, 4.7847e-01],\n",
              "         [7.7382e-01, 6.3371e-01, 1.1153e-01, 9.5115e-01]]])"
            ]
          },
          "metadata": {},
          "execution_count": 202
        }
      ]
    },
    {
      "cell_type": "code",
      "source": [
        "permuted_z"
      ],
      "metadata": {
        "colab": {
          "base_uri": "https://localhost:8080/"
        },
        "id": "GfNZ_HYJC6zm",
        "outputId": "d71c6721-737c-40b8-c977-fa9e0eb3af06"
      },
      "execution_count": 201,
      "outputs": [
        {
          "output_type": "execute_result",
          "data": {
            "text/plain": [
              "tensor([[[5.5513e-02, 9.5505e-01, 8.0851e-01],\n",
              "         [7.6243e-01, 7.6108e-01, 1.7901e-02],\n",
              "         [3.0147e-01, 9.9913e-01, 7.8351e-01],\n",
              "         [7.9189e-01, 6.4406e-01, 1.3741e-01]],\n",
              "\n",
              "        [[8.4228e-01, 8.0195e-02, 3.3120e-01],\n",
              "         [3.2384e-01, 2.3335e-01, 6.9655e-01],\n",
              "         [2.7464e-02, 6.7690e-01, 7.4720e-01],\n",
              "         [3.6219e-01, 2.3691e-01, 6.3071e-01]],\n",
              "\n",
              "        [[4.9614e-01, 6.1749e-01, 3.9350e-01],\n",
              "         [2.9107e-01, 6.7390e-01, 9.7212e-01],\n",
              "         [3.5163e-01, 4.1087e-01, 6.2843e-02],\n",
              "         [2.6293e-01, 1.1985e-01, 8.4783e-01]],\n",
              "\n",
              "        [[5.8432e-01, 1.5840e-01, 2.6486e-01],\n",
              "         [3.4096e-02, 8.0570e-01, 6.7320e-01],\n",
              "         [6.9040e-01, 1.2484e-01, 4.0321e-01],\n",
              "         [9.6894e-02, 9.9874e-01, 2.8052e-01]],\n",
              "\n",
              "        [[9.3793e-01, 7.7074e-01, 8.4656e-01],\n",
              "         [7.2502e-01, 1.8211e-01, 4.5828e-01],\n",
              "         [7.0415e-01, 3.6432e-02, 2.7313e-01],\n",
              "         [8.0265e-01, 5.5389e-01, 4.2464e-01]],\n",
              "\n",
              "        [[2.9667e-01, 2.6870e-01, 6.7494e-01],\n",
              "         [2.4634e-01, 5.8640e-01, 8.0516e-03],\n",
              "         [8.8384e-01, 5.0125e-01, 2.6516e-01],\n",
              "         [2.4490e-01, 4.0789e-01, 6.0526e-01]],\n",
              "\n",
              "        [[6.6318e-01, 2.4222e-02, 8.7004e-01],\n",
              "         [1.3063e-01, 8.5065e-01, 8.0179e-02],\n",
              "         [9.7145e-01, 7.0657e-02, 8.5120e-01],\n",
              "         [7.9561e-01, 4.7966e-01, 5.2144e-01]],\n",
              "\n",
              "        [[6.1021e-01, 2.3742e-01, 1.8188e-01],\n",
              "         [7.9462e-01, 9.2487e-01, 6.1341e-01],\n",
              "         [8.2535e-01, 4.7320e-01, 5.9176e-01],\n",
              "         [4.7376e-01, 3.7564e-01, 9.3043e-01]],\n",
              "\n",
              "        [[2.5594e-01, 6.4493e-01, 3.1565e-01],\n",
              "         [6.1490e-01, 4.0747e-01, 8.0998e-01],\n",
              "         [3.3969e-03, 7.4691e-01, 6.7080e-01],\n",
              "         [9.4133e-01, 3.8366e-01, 6.4144e-01]],\n",
              "\n",
              "        [[6.0903e-01, 1.5416e-01, 6.7392e-01],\n",
              "         [4.4730e-01, 5.1202e-01, 2.3233e-01],\n",
              "         [5.6193e-01, 5.6089e-02, 6.2615e-01],\n",
              "         [6.0117e-02, 9.3911e-01, 1.1251e-01]],\n",
              "\n",
              "        [[9.8022e-01, 3.9418e-01, 7.9292e-01],\n",
              "         [7.3975e-04, 4.1232e-03, 6.6408e-01],\n",
              "         [2.0897e-01, 9.0500e-01, 5.9929e-01],\n",
              "         [9.1095e-01, 3.6296e-01, 1.5649e-01]],\n",
              "\n",
              "        [[4.7446e-01, 6.8226e-01, 8.7206e-01],\n",
              "         [1.6822e-01, 5.9306e-02, 5.0109e-01],\n",
              "         [5.3664e-01, 2.9167e-02, 7.4399e-02],\n",
              "         [4.2248e-01, 5.7172e-01, 4.0329e-01]],\n",
              "\n",
              "        [[8.1711e-01, 7.4747e-01, 7.4322e-01],\n",
              "         [6.9032e-02, 6.7796e-01, 9.8727e-01],\n",
              "         [8.5334e-01, 5.6580e-01, 6.0582e-02],\n",
              "         [1.5026e-01, 6.5984e-01, 5.8285e-01]],\n",
              "\n",
              "        [[6.9577e-01, 9.6964e-01, 4.2620e-01],\n",
              "         [2.9046e-01, 2.1390e-01, 9.3528e-01],\n",
              "         [6.4940e-01, 9.2563e-01, 1.1671e-01],\n",
              "         [2.3589e-01, 8.4259e-01, 4.7049e-01]],\n",
              "\n",
              "        [[7.6422e-01, 7.4835e-01, 9.0186e-01],\n",
              "         [6.4116e-01, 1.1494e-01, 1.8550e-01],\n",
              "         [6.7955e-01, 4.7736e-01, 2.6762e-01],\n",
              "         [6.7397e-01, 7.8280e-01, 2.0144e-01]],\n",
              "\n",
              "        [[7.9459e-01, 6.2325e-02, 2.1778e-01],\n",
              "         [1.3563e-01, 7.2523e-01, 5.3151e-01],\n",
              "         [7.2857e-01, 9.9547e-01, 2.0312e-01],\n",
              "         [2.0136e-01, 8.0575e-01, 9.3876e-01]],\n",
              "\n",
              "        [[6.2010e-01, 8.3359e-02, 1.3422e-01],\n",
              "         [8.2173e-01, 8.4405e-01, 5.9464e-01],\n",
              "         [3.2952e-01, 2.6560e-01, 7.1479e-01],\n",
              "         [9.1674e-01, 2.0032e-01, 7.7833e-01]],\n",
              "\n",
              "        [[9.2149e-02, 9.8177e-01, 7.0294e-01],\n",
              "         [2.2849e-01, 5.7550e-01, 8.0690e-02],\n",
              "         [1.1856e-01, 4.7671e-01, 4.2915e-02],\n",
              "         [1.5930e-01, 3.3652e-01, 5.4769e-02]],\n",
              "\n",
              "        [[7.2091e-01, 8.2796e-02, 2.2925e-01],\n",
              "         [8.4263e-01, 7.4022e-01, 4.3535e-01],\n",
              "         [7.1901e-01, 9.1181e-01, 3.8410e-01],\n",
              "         [4.8820e-01, 7.3414e-01, 6.5681e-01]],\n",
              "\n",
              "        [[2.9968e-01, 4.1344e-01, 6.2988e-01],\n",
              "         [6.9185e-01, 5.2511e-01, 1.8425e-01],\n",
              "         [5.0672e-01, 6.2983e-01, 1.3983e-01],\n",
              "         [4.6994e-01, 5.1863e-01, 2.8756e-01]],\n",
              "\n",
              "        [[9.9455e-01, 8.8829e-01, 9.7741e-01],\n",
              "         [7.3395e-02, 7.6713e-01, 8.3980e-01],\n",
              "         [4.0933e-01, 8.1952e-01, 1.1234e-01],\n",
              "         [5.7535e-01, 4.4676e-01, 6.0893e-01]],\n",
              "\n",
              "        [[3.0192e-01, 2.7079e-02, 6.9065e-02],\n",
              "         [6.5032e-01, 8.5267e-01, 2.2522e-01],\n",
              "         [8.2099e-01, 3.8401e-01, 3.9781e-02],\n",
              "         [1.2206e-01, 7.0260e-01, 6.0250e-02]],\n",
              "\n",
              "        [[1.3782e-01, 3.1433e-01, 8.7872e-01],\n",
              "         [2.7342e-02, 9.4325e-01, 3.2937e-01],\n",
              "         [9.7985e-01, 4.4857e-01, 9.5418e-01],\n",
              "         [1.8145e-01, 8.9514e-01, 5.7849e-01]],\n",
              "\n",
              "        [[5.0614e-01, 8.9789e-01, 1.5897e-02],\n",
              "         [4.9487e-01, 7.9511e-01, 7.0842e-01],\n",
              "         [8.0867e-01, 5.1713e-01, 9.7124e-01],\n",
              "         [3.9024e-01, 7.3419e-02, 1.8254e-01]],\n",
              "\n",
              "        [[3.8089e-02, 7.8921e-01, 9.5242e-01],\n",
              "         [9.8139e-01, 5.5715e-02, 1.5005e-01],\n",
              "         [1.6659e-01, 3.8735e-01, 1.9893e-01],\n",
              "         [9.8789e-01, 8.1929e-01, 2.1128e-01]],\n",
              "\n",
              "        [[7.4066e-01, 7.4544e-02, 9.6860e-01],\n",
              "         [9.7939e-01, 5.2298e-02, 4.8320e-01],\n",
              "         [7.6709e-01, 2.6867e-01, 6.9281e-01],\n",
              "         [8.1137e-02, 3.7057e-01, 9.9251e-01]],\n",
              "\n",
              "        [[3.6607e-01, 1.5468e-01, 2.4397e-01],\n",
              "         [5.5611e-01, 6.8026e-01, 3.0075e-01],\n",
              "         [1.1247e-02, 7.2037e-01, 4.6786e-01],\n",
              "         [5.5764e-01, 9.5551e-01, 5.7774e-01]],\n",
              "\n",
              "        [[2.2147e-01, 5.2481e-01, 7.8432e-01],\n",
              "         [6.2965e-01, 4.1046e-01, 9.6293e-01],\n",
              "         [2.0542e-01, 3.4832e-01, 7.8486e-01],\n",
              "         [4.6770e-01, 2.8927e-01, 6.8733e-01]],\n",
              "\n",
              "        [[9.2144e-01, 8.6597e-01, 9.5439e-02],\n",
              "         [1.1890e-02, 8.0823e-01, 2.1052e-01],\n",
              "         [7.8822e-01, 2.5631e-01, 9.9485e-01],\n",
              "         [8.0460e-01, 6.8280e-02, 1.5545e-02]],\n",
              "\n",
              "        [[8.2224e-01, 9.2649e-01, 3.8145e-01],\n",
              "         [1.8629e-01, 7.3567e-01, 5.0622e-01],\n",
              "         [2.3386e-01, 3.6658e-01, 7.0072e-01],\n",
              "         [4.2540e-01, 4.2402e-01, 4.8882e-01]],\n",
              "\n",
              "        [[7.8461e-01, 3.9763e-01, 8.8594e-01],\n",
              "         [4.7792e-01, 3.4845e-01, 4.9735e-01],\n",
              "         [6.2720e-01, 1.5300e-01, 3.8128e-01],\n",
              "         [6.7814e-01, 8.1557e-01, 6.6725e-01]],\n",
              "\n",
              "        [[4.2266e-01, 9.1293e-01, 5.8049e-01],\n",
              "         [2.7734e-01, 9.2404e-01, 3.5110e-01],\n",
              "         [4.8196e-01, 1.8663e-01, 6.8935e-01],\n",
              "         [2.0815e-01, 3.9181e-01, 8.0160e-01]],\n",
              "\n",
              "        [[7.0808e-01, 1.6953e-01, 6.5509e-01],\n",
              "         [6.1860e-01, 3.6069e-01, 8.6889e-01],\n",
              "         [9.4991e-02, 2.5881e-01, 8.1148e-01],\n",
              "         [1.9815e-01, 6.2672e-01, 4.6119e-02]],\n",
              "\n",
              "        [[7.6375e-01, 3.2471e-01, 9.6847e-01],\n",
              "         [9.4562e-02, 8.7935e-01, 2.9638e-01],\n",
              "         [4.5854e-01, 9.2896e-01, 3.4096e-01],\n",
              "         [8.5993e-01, 3.2615e-01, 1.2029e-01]],\n",
              "\n",
              "        [[2.2182e-01, 9.8522e-01, 1.2386e-01],\n",
              "         [4.2140e-01, 9.9094e-01, 9.1501e-01],\n",
              "         [3.3077e-02, 1.2428e-01, 9.6746e-01],\n",
              "         [3.2850e-01, 6.4661e-01, 6.1198e-01]],\n",
              "\n",
              "        [[5.3450e-01, 4.9844e-01, 4.9009e-01],\n",
              "         [5.7184e-01, 4.5045e-01, 1.9832e-01],\n",
              "         [6.4759e-01, 1.9650e-01, 8.5714e-02],\n",
              "         [5.0019e-01, 6.1216e-03, 7.2529e-01]],\n",
              "\n",
              "        [[6.5937e-02, 7.5441e-01, 9.9835e-01],\n",
              "         [5.8411e-01, 8.7269e-01, 2.4476e-01],\n",
              "         [7.7444e-02, 1.7003e-01, 5.9539e-02],\n",
              "         [2.4302e-01, 1.9603e-02, 5.7867e-01]],\n",
              "\n",
              "        [[4.4965e-01, 9.0783e-01, 7.1856e-01],\n",
              "         [7.0273e-01, 3.1973e-01, 8.6844e-01],\n",
              "         [6.7636e-01, 4.6275e-01, 9.9927e-01],\n",
              "         [3.5554e-01, 9.2183e-01, 7.8477e-01]],\n",
              "\n",
              "        [[8.7881e-01, 9.2687e-02, 5.7636e-01],\n",
              "         [4.1922e-01, 2.5871e-01, 6.0960e-01],\n",
              "         [2.8344e-02, 3.9214e-01, 2.8480e-01],\n",
              "         [4.2606e-01, 7.7731e-01, 7.8891e-01]],\n",
              "\n",
              "        [[3.0133e-02, 6.8683e-01, 1.9613e-01],\n",
              "         [7.0294e-01, 3.8948e-02, 3.4993e-01],\n",
              "         [8.6535e-01, 4.7441e-01, 6.7728e-02],\n",
              "         [1.4290e-01, 7.1404e-01, 9.1778e-01]],\n",
              "\n",
              "        [[4.6920e-01, 7.2096e-02, 8.9814e-01],\n",
              "         [6.7725e-03, 7.6342e-01, 2.4113e-01],\n",
              "         [8.0304e-01, 3.6429e-01, 2.0290e-01],\n",
              "         [6.3223e-01, 1.3188e-01, 6.7977e-01]],\n",
              "\n",
              "        [[5.7049e-02, 3.6562e-01, 9.6423e-01],\n",
              "         [1.5235e-01, 2.2912e-01, 3.5827e-01],\n",
              "         [8.1360e-01, 5.5887e-01, 5.2684e-01],\n",
              "         [1.1844e-01, 7.2822e-01, 8.5108e-02]],\n",
              "\n",
              "        [[7.7353e-01, 8.4368e-01, 1.3976e-01],\n",
              "         [8.2892e-02, 1.7058e-02, 9.7851e-02],\n",
              "         [2.8772e-01, 7.0117e-01, 8.5278e-01],\n",
              "         [6.8928e-01, 4.0122e-02, 6.5939e-01]],\n",
              "\n",
              "        [[6.9385e-01, 5.0941e-01, 9.1646e-01],\n",
              "         [6.2586e-01, 1.7689e-01, 8.1334e-01],\n",
              "         [8.2877e-02, 5.4101e-01, 1.0305e-01],\n",
              "         [6.6009e-01, 4.5605e-02, 4.4850e-01]],\n",
              "\n",
              "        [[5.6966e-02, 9.0502e-01, 1.9284e-02],\n",
              "         [8.0732e-01, 4.8846e-01, 3.9068e-01],\n",
              "         [9.1686e-01, 6.7230e-01, 3.5597e-02],\n",
              "         [9.0199e-02, 5.0906e-01, 5.4521e-01]],\n",
              "\n",
              "        [[7.1632e-01, 7.5649e-01, 1.4851e-02],\n",
              "         [3.6978e-01, 9.0570e-01, 4.5400e-01],\n",
              "         [4.4767e-02, 2.1361e-02, 8.9844e-01],\n",
              "         [7.7789e-02, 9.4883e-02, 8.9377e-01]],\n",
              "\n",
              "        [[3.3307e-01, 6.1898e-01, 5.6364e-01],\n",
              "         [3.0405e-01, 9.8700e-01, 4.5521e-01],\n",
              "         [2.5844e-01, 6.0728e-02, 9.4009e-01],\n",
              "         [4.9591e-01, 3.5904e-01, 4.4145e-01]],\n",
              "\n",
              "        [[4.2452e-01, 7.3893e-01, 4.8391e-01],\n",
              "         [2.3676e-01, 8.2884e-01, 7.2947e-01],\n",
              "         [7.8626e-01, 4.5479e-01, 9.3409e-01],\n",
              "         [5.4857e-01, 5.0203e-01, 5.0963e-01]],\n",
              "\n",
              "        [[8.4688e-01, 8.0864e-01, 3.7630e-01],\n",
              "         [9.7033e-01, 8.3601e-01, 6.9519e-01],\n",
              "         [1.5168e-01, 3.7428e-01, 6.7132e-01],\n",
              "         [1.6605e-01, 6.4743e-01, 6.6553e-01]],\n",
              "\n",
              "        [[3.5340e-01, 8.2096e-02, 7.8673e-01],\n",
              "         [3.8599e-01, 4.8873e-01, 1.7945e-01],\n",
              "         [5.8579e-01, 8.1219e-01, 2.3713e-01],\n",
              "         [2.7897e-01, 5.0454e-01, 1.9580e-01]],\n",
              "\n",
              "        [[6.0310e-01, 2.6929e-01, 3.1934e-02],\n",
              "         [8.5284e-01, 5.5362e-01, 9.8047e-01],\n",
              "         [3.7832e-01, 3.7808e-01, 2.9083e-02],\n",
              "         [5.0585e-01, 7.9934e-01, 6.5792e-01]],\n",
              "\n",
              "        [[4.5262e-01, 1.9999e-01, 4.4273e-01],\n",
              "         [4.8084e-01, 3.9874e-01, 8.3536e-01],\n",
              "         [8.9905e-01, 5.1289e-01, 7.8067e-01],\n",
              "         [3.7740e-01, 4.1164e-03, 9.9360e-02]],\n",
              "\n",
              "        [[6.8937e-01, 1.6048e-01, 9.4906e-01],\n",
              "         [5.4594e-01, 6.0164e-01, 2.1478e-01],\n",
              "         [6.1859e-01, 4.9577e-01, 1.6226e-01],\n",
              "         [7.7131e-01, 6.0092e-01, 5.1867e-01]],\n",
              "\n",
              "        [[9.1062e-01, 3.4589e-01, 2.1901e-01],\n",
              "         [9.3686e-01, 1.2101e-01, 1.7991e-01],\n",
              "         [3.5791e-01, 5.5395e-01, 3.6975e-01],\n",
              "         [5.9131e-01, 9.7637e-01, 4.2416e-01]],\n",
              "\n",
              "        [[1.2927e-02, 5.8467e-01, 9.9714e-01],\n",
              "         [8.1097e-01, 3.5816e-01, 1.2291e-01],\n",
              "         [5.6715e-01, 3.5279e-01, 6.3626e-01],\n",
              "         [8.3062e-01, 9.0655e-01, 6.7235e-01]],\n",
              "\n",
              "        [[6.4199e-01, 6.4344e-01, 1.4065e-02],\n",
              "         [6.8898e-02, 8.1835e-01, 9.2908e-02],\n",
              "         [4.9957e-01, 3.3587e-01, 7.7225e-01],\n",
              "         [6.3457e-01, 2.4310e-01, 6.4525e-01]],\n",
              "\n",
              "        [[5.0732e-01, 2.6729e-01, 1.1331e-01],\n",
              "         [4.8395e-01, 6.5792e-01, 4.0974e-01],\n",
              "         [5.4494e-01, 1.2332e-01, 3.1217e-01],\n",
              "         [7.5996e-02, 3.9004e-01, 1.3060e-01]],\n",
              "\n",
              "        [[5.2591e-01, 6.7614e-01, 2.0287e-01],\n",
              "         [8.4640e-01, 4.6866e-01, 3.6699e-01],\n",
              "         [3.6897e-01, 6.8421e-01, 5.4254e-01],\n",
              "         [7.9811e-01, 7.1486e-01, 9.5223e-01]],\n",
              "\n",
              "        [[8.1524e-01, 7.5018e-01, 6.3568e-02],\n",
              "         [6.9465e-01, 9.5175e-01, 6.3562e-01],\n",
              "         [5.5920e-01, 1.7194e-01, 6.6956e-01],\n",
              "         [3.3306e-01, 8.0189e-01, 5.1191e-02]],\n",
              "\n",
              "        [[5.2697e-01, 8.8675e-02, 7.8627e-01],\n",
              "         [4.4574e-01, 4.8086e-01, 6.4877e-02],\n",
              "         [6.1409e-01, 9.9575e-01, 8.7658e-01],\n",
              "         [9.4903e-01, 6.8764e-01, 6.4076e-01]],\n",
              "\n",
              "        [[5.8475e-01, 3.4604e-01, 5.8936e-01],\n",
              "         [1.6634e-01, 9.7493e-01, 1.4510e-01],\n",
              "         [6.9902e-01, 9.3280e-01, 7.0923e-02],\n",
              "         [5.9268e-01, 1.9155e-01, 9.3500e-01]],\n",
              "\n",
              "        [[1.2003e-01, 2.7811e-01, 4.7481e-01],\n",
              "         [8.4581e-01, 7.8000e-01, 9.6070e-02],\n",
              "         [1.4172e-01, 8.3692e-01, 1.2390e-01],\n",
              "         [2.0376e-01, 7.3234e-01, 1.8200e-02]],\n",
              "\n",
              "        [[4.6224e-01, 3.6437e-01, 8.5731e-01],\n",
              "         [3.1359e-01, 6.3162e-01, 5.5837e-01],\n",
              "         [5.9729e-01, 4.3509e-01, 3.6608e-01],\n",
              "         [5.6653e-01, 1.6142e-01, 3.0828e-01]],\n",
              "\n",
              "        [[7.5426e-01, 4.6341e-01, 7.7382e-01],\n",
              "         [2.1147e-01, 4.6792e-01, 6.3371e-01],\n",
              "         [1.0844e-01, 5.0055e-01, 1.1153e-01],\n",
              "         [9.2708e-01, 4.7847e-01, 9.5115e-01]]])"
            ]
          },
          "metadata": {},
          "execution_count": 201
        }
      ]
    },
    {
      "cell_type": "code",
      "source": [
        "z.unsqueeze(2).shape"
      ],
      "metadata": {
        "colab": {
          "base_uri": "https://localhost:8080/"
        },
        "id": "8H0Jm9TpDCxw",
        "outputId": "63d34e55-b150-4c7c-f7b0-afd69ad57d3f"
      },
      "execution_count": 206,
      "outputs": [
        {
          "output_type": "execute_result",
          "data": {
            "text/plain": [
              "torch.Size([64, 3, 1, 4])"
            ]
          },
          "metadata": {},
          "execution_count": 206
        }
      ]
    },
    {
      "cell_type": "code",
      "source": [],
      "metadata": {
        "id": "HLEtzPpPDTmM"
      },
      "execution_count": null,
      "outputs": []
    }
  ]
}