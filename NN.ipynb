{
  "nbformat": 4,
  "nbformat_minor": 0,
  "metadata": {
    "colab": {
      "provenance": [],
      "collapsed_sections": [
        "C-8-YWmsE66f"
      ],
      "gpuType": "T4",
      "authorship_tag": "ABX9TyMFRogRPqINnhgkGmzmoET8",
      "include_colab_link": true
    },
    "kernelspec": {
      "name": "python3",
      "display_name": "Python 3"
    },
    "language_info": {
      "name": "python"
    },
    "accelerator": "GPU"
  },
  "cells": [
    {
      "cell_type": "markdown",
      "metadata": {
        "id": "view-in-github",
        "colab_type": "text"
      },
      "source": [
        "<a href=\"https://colab.research.google.com/github/anismehmahi/pytorch/blob/main/NN.ipynb\" target=\"_parent\"><img src=\"https://colab.research.google.com/assets/colab-badge.svg\" alt=\"Open In Colab\"/></a>"
      ]
    },
    {
      "cell_type": "code",
      "execution_count": null,
      "metadata": {
        "id": "_tev80l-NGzD"
      },
      "outputs": [],
      "source": [
        "import torch\n",
        "import torch.nn as nn\n",
        "import torch.optim as optim\n",
        "import torch.nn.functional as F\n",
        "from torch.utils.data import DataLoader\n",
        "import torchvision.datasets as datasets\n",
        "import torchvision.transforms as transforms"
      ]
    },
    {
      "cell_type": "code",
      "source": [
        "class MyModel(nn.Module):\n",
        "  def __init__(self, input_image_size, num_classes):\n",
        "    super(MyModel,self).__init__()\n",
        "    self.layer1 = nn.Linear(60, 10)\n",
        "    # the input tensor should be of shape (N, T, D) and when defining RNN this is it should be = RNN(input_size = D, hidden_size = Hout, num_layers = 1 or 2, batch_first=True, nonlinearity='relu' or 'tanh')\n",
        "    self.rnn = nn.RNN(28, 60, 1, batch_first=True, nonlinearity='tanh')\n",
        "    # self.layer2 = nn.Linear(50,num_classes)\n",
        "  def forward(self,x):\n",
        "    # x is of shape (N, T, D) = (batch_size, T, Hin)\n",
        "    x, hn = self.rnn(x) # hn is of shape = (1, batch_size, 60)\n",
        "    # print(hn.shape)\n",
        "    hn = torch.squeeze(hn) # to get rid of that 1 dim so the shape becomes (batch_size, 60)\n",
        "    # print(hn.shape)\n",
        "    hn= F.relu(self.layer1(hn))\n",
        "    # print(hn.shape)\n",
        "    return hn\n",
        "\n",
        "\n",
        "\n",
        "    # x = F.relu(self.layer1(x))\n",
        "    # x = self.layer2(x)\n",
        "    # return x\n"
      ],
      "metadata": {
        "id": "Ne-zkjK2Pd_J"
      },
      "execution_count": null,
      "outputs": []
    },
    {
      "cell_type": "code",
      "source": [
        "image_input_size = 784\n",
        "num_classes = 10\n",
        "model = MyModel(image_input_size, num_classes)\n",
        "rand = torch.rand(32,28,28)\n",
        "last_layer_embeddings = model(rand)\n"
      ],
      "metadata": {
        "id": "6-3bY1R6QwXU"
      },
      "execution_count": null,
      "outputs": []
    },
    {
      "cell_type": "code",
      "source": [
        "device = 'cuda' if torch.cuda.is_available() else \"cpu\"\n",
        "device"
      ],
      "metadata": {
        "id": "pQGpQO6BQ5kB",
        "colab": {
          "base_uri": "https://localhost:8080/",
          "height": 35
        },
        "outputId": "394975da-69a7-448d-e02b-1526d32066a7"
      },
      "execution_count": null,
      "outputs": [
        {
          "output_type": "execute_result",
          "data": {
            "text/plain": [
              "'cuda'"
            ],
            "application/vnd.google.colaboratory.intrinsic+json": {
              "type": "string"
            }
          },
          "metadata": {},
          "execution_count": 57
        }
      ]
    },
    {
      "cell_type": "code",
      "source": [
        "learning_rate = 0.001\n",
        "batch_size = 32"
      ],
      "metadata": {
        "id": "fNCAe9zjSSgj"
      },
      "execution_count": null,
      "outputs": []
    },
    {
      "cell_type": "code",
      "source": [
        "train_dataset = datasets.MNIST(root='/content/data/', train=True, transform = transforms.ToTensor(), download=True)\n",
        "test_dataset = datasets.MNIST(root='/content/data/', train=False, transform = transforms.ToTensor(), download=True)"
      ],
      "metadata": {
        "id": "0QopNc3EScdc",
        "colab": {
          "base_uri": "https://localhost:8080/"
        },
        "outputId": "3486cf37-d703-4b63-f34f-96c2e2775320"
      },
      "execution_count": null,
      "outputs": [
        {
          "output_type": "stream",
          "name": "stdout",
          "text": [
            "Downloading http://yann.lecun.com/exdb/mnist/train-images-idx3-ubyte.gz\n",
            "Downloading http://yann.lecun.com/exdb/mnist/train-images-idx3-ubyte.gz to /content/data/MNIST/raw/train-images-idx3-ubyte.gz\n"
          ]
        },
        {
          "output_type": "stream",
          "name": "stderr",
          "text": [
            "100%|██████████| 9912422/9912422 [00:00<00:00, 140075170.12it/s]"
          ]
        },
        {
          "output_type": "stream",
          "name": "stdout",
          "text": [
            "Extracting /content/data/MNIST/raw/train-images-idx3-ubyte.gz to /content/data/MNIST/raw\n"
          ]
        },
        {
          "output_type": "stream",
          "name": "stderr",
          "text": [
            "\n"
          ]
        },
        {
          "output_type": "stream",
          "name": "stdout",
          "text": [
            "\n",
            "Downloading http://yann.lecun.com/exdb/mnist/train-labels-idx1-ubyte.gz\n",
            "Downloading http://yann.lecun.com/exdb/mnist/train-labels-idx1-ubyte.gz to /content/data/MNIST/raw/train-labels-idx1-ubyte.gz\n"
          ]
        },
        {
          "output_type": "stream",
          "name": "stderr",
          "text": [
            "100%|██████████| 28881/28881 [00:00<00:00, 24020561.93it/s]"
          ]
        },
        {
          "output_type": "stream",
          "name": "stdout",
          "text": [
            "Extracting /content/data/MNIST/raw/train-labels-idx1-ubyte.gz to /content/data/MNIST/raw\n",
            "\n",
            "Downloading http://yann.lecun.com/exdb/mnist/t10k-images-idx3-ubyte.gz\n"
          ]
        },
        {
          "output_type": "stream",
          "name": "stderr",
          "text": [
            "\n"
          ]
        },
        {
          "output_type": "stream",
          "name": "stdout",
          "text": [
            "Downloading http://yann.lecun.com/exdb/mnist/t10k-images-idx3-ubyte.gz to /content/data/MNIST/raw/t10k-images-idx3-ubyte.gz\n"
          ]
        },
        {
          "output_type": "stream",
          "name": "stderr",
          "text": [
            "100%|██████████| 1648877/1648877 [00:00<00:00, 38878877.67it/s]"
          ]
        },
        {
          "output_type": "stream",
          "name": "stdout",
          "text": [
            "Extracting /content/data/MNIST/raw/t10k-images-idx3-ubyte.gz to /content/data/MNIST/raw\n"
          ]
        },
        {
          "output_type": "stream",
          "name": "stderr",
          "text": [
            "\n"
          ]
        },
        {
          "output_type": "stream",
          "name": "stdout",
          "text": [
            "\n",
            "Downloading http://yann.lecun.com/exdb/mnist/t10k-labels-idx1-ubyte.gz\n",
            "Downloading http://yann.lecun.com/exdb/mnist/t10k-labels-idx1-ubyte.gz to /content/data/MNIST/raw/t10k-labels-idx1-ubyte.gz\n"
          ]
        },
        {
          "output_type": "stream",
          "name": "stderr",
          "text": [
            "100%|██████████| 4542/4542 [00:00<00:00, 16451233.82it/s]\n"
          ]
        },
        {
          "output_type": "stream",
          "name": "stdout",
          "text": [
            "Extracting /content/data/MNIST/raw/t10k-labels-idx1-ubyte.gz to /content/data/MNIST/raw\n",
            "\n"
          ]
        }
      ]
    },
    {
      "cell_type": "code",
      "source": [
        "train_loader = DataLoader(train_dataset, batch_size = batch_size, shuffle=True,)\n",
        "test_loader = DataLoader(test_dataset,batch_size = batch_size, shuffle=True)"
      ],
      "metadata": {
        "id": "8Y7LyENU1Vki"
      },
      "execution_count": null,
      "outputs": []
    },
    {
      "cell_type": "code",
      "source": [
        "for batch, labels in test_loader:\n",
        "  print(batch.shape)\n",
        "  break"
      ],
      "metadata": {
        "colab": {
          "base_uri": "https://localhost:8080/"
        },
        "id": "TTEEJ60813_T",
        "outputId": "0c4cc6ce-b064-4902-a31a-2d88d0073d02"
      },
      "execution_count": null,
      "outputs": [
        {
          "output_type": "stream",
          "name": "stdout",
          "text": [
            "torch.Size([32, 1, 28, 28])\n"
          ]
        }
      ]
    },
    {
      "cell_type": "code",
      "source": [
        "import matplotlib.pyplot as plt\n",
        "\n",
        "for batch, labels in test_loader:\n",
        "  plt.imshow(batch[0].squeeze(), cmap='gray')\n",
        "  plt.axis('off')  # Turn off axis\n",
        "  plt.show()\n",
        "  break"
      ],
      "metadata": {
        "colab": {
          "base_uri": "https://localhost:8080/",
          "height": 406
        },
        "id": "-DULnTxiVsc5",
        "outputId": "a1926ccd-e34e-4589-ff72-ecf99d296551"
      },
      "execution_count": null,
      "outputs": [
        {
          "output_type": "display_data",
          "data": {
            "text/plain": [
              "<Figure size 640x480 with 1 Axes>"
            ],
            "image/png": "[encoded data removed]"
          },
          "metadata": {}
        }
      ]
    },
    {
      "cell_type": "code",
      "source": [
        "# The true formula of CE in pytorch is (log is natural): loss(x, class) = -log(exp(x[class]) / (\\sum_j exp(x[j])))\n",
        "#                                                        = -x[class] + log(\\sum_j exp(x[j]))\n",
        "# We do this for each entry (row in our data) and then we sum or mean all what we get based on the reduction attribute in nn.CrossEntropyLoss(reduction='sum') by default it is 'mean'\n",
        "# it applies first softmax to logits (predicted) and then calculate the CE (CE = Sum (-pi*log(softmax(logits)))) pi in pytorch is always = 1\n",
        "# https://stackoverflow.com/questions/49390842/cross-entropy-in-pytorch\n",
        "criterion = nn.CrossEntropyLoss(reduction='mean')"
      ],
      "metadata": {
        "id": "RHK1L-B-3rC1"
      },
      "execution_count": null,
      "outputs": []
    },
    {
      "cell_type": "markdown",
      "source": [
        "### Playing with loss function"
      ],
      "metadata": {
        "id": "C-8-YWmsE66f"
      }
    },
    {
      "cell_type": "code",
      "source": [
        "# The true formula of CE in pytorch is (log is natural): loss(x, class) = -log(exp(x[class]) / (\\sum_j exp(x[j])))\n",
        "#                                                        = -x[class] + log(\\sum_j exp(x[j]))\n",
        "# We do this for each entry (row in our data) and then we sum or mean all what we get based on the reduction attribute in nn.CrossEntropyLoss(reduction='sum') by default it is 'mean'\n",
        "# it applies first softmax to logits (predicted) and then calculate the CE (CE = Sum (-pi*log(softmax(logits)))) pi in pytorch is always = 1\n",
        "# https://stackoverflow.com/questions/49390842/cross-entropy-in-pytorch\n",
        "\n",
        "predicted = torch.tensor([[1,0],[0,1]],dtype=torch.float)\n",
        "true = torch.tensor([1,0]).long()\n",
        "\n",
        "loss = criterion(predicted,true)\n",
        "print(loss)"
      ],
      "metadata": {
        "colab": {
          "base_uri": "https://localhost:8080/"
        },
        "id": "4qTPWyK03wMG",
        "outputId": "146a28e8-36b4-497a-d8d5-7be5f1c3b59c"
      },
      "execution_count": null,
      "outputs": [
        {
          "output_type": "stream",
          "name": "stdout",
          "text": [
            "tensor(2.6265)\n"
          ]
        }
      ]
    },
    {
      "cell_type": "code",
      "source": [
        "import math\n",
        "\n",
        "result =  math.log(1 + math.exp(1)) + math.log(1 + math.exp(1))\n",
        "print(result)"
      ],
      "metadata": {
        "colab": {
          "base_uri": "https://localhost:8080/"
        },
        "id": "ZUU-mHNiCJj9",
        "outputId": "a8b7c337-e2ce-4ffc-fc72-bfba331202b3"
      },
      "execution_count": null,
      "outputs": [
        {
          "output_type": "stream",
          "name": "stdout",
          "text": [
            "2.6265233750364456\n"
          ]
        }
      ]
    },
    {
      "cell_type": "markdown",
      "source": [
        "### Back to training loop"
      ],
      "metadata": {
        "id": "d7BLn8HoFAfd"
      }
    },
    {
      "cell_type": "code",
      "source": [
        "optimizer = optim.Adam(model.parameters(), lr=learning_rate)"
      ],
      "metadata": {
        "id": "x6WG2wzEE0vP"
      },
      "execution_count": null,
      "outputs": []
    },
    {
      "cell_type": "code",
      "source": [
        "epochs = 10\n",
        "model.train()\n",
        "model.to(device)\n",
        "\n",
        "for epoch in range(epochs):\n",
        "    # Training\n",
        "    running_loss = 0.0\n",
        "    for i, data in enumerate(train_loader):\n",
        "        batch, labels = data\n",
        "        batch, labels = batch.to(device), labels.to(device)\n",
        "        optimizer.zero_grad()\n",
        "        batch = torch.squeeze(batch)\n",
        "        # batch = batch.reshape(batch.shape[0], -1) # batch_sizex784\n",
        "        # Forward pass\n",
        "        outputs = model(batch) #output shape is 32x10\n",
        "        loss = criterion(outputs, labels)\n",
        "\n",
        "        # Backward pass and optimization\n",
        "        loss.backward()\n",
        "        optimizer.step()\n",
        "\n",
        "        # Print statistics\n",
        "        running_loss += loss.item()\n",
        "\n",
        "    print('[%d] training loss: %.3f' %(epoch + 1, running_loss / len(train_loader)))\n",
        "\n",
        "    # Evaluation\n",
        "    model.eval()\n",
        "    total_correct = 0\n",
        "    total_samples = 0\n",
        "    with torch.no_grad():\n",
        "        for data in test_loader:\n",
        "            batch, labels = data\n",
        "            batch, labels = batch.to(device), labels.to(device)\n",
        "            # batch = batch.reshape(batch.shape[0], -1) # batch_sizex784\n",
        "            batch = torch.squeeze(batch)\n",
        "            outputss = model(batch)\n",
        "            _, predicted = torch.max(outputss, 1)\n",
        "            total_samples += labels.size(0)\n",
        "            total_correct += (predicted == labels).sum().item()\n",
        "\n",
        "    accuracy = total_correct / total_samples\n",
        "    print('[%d] validation accuracy: %.3f' %(epoch + 1, accuracy))\n",
        "\n",
        "    model.train()  # Set the model back to training mode\n",
        "\n",
        "print('Finished Training')\n"
      ],
      "metadata": {
        "id": "3fDh936LV1Li",
        "colab": {
          "base_uri": "https://localhost:8080/"
        },
        "outputId": "990bd5e2-68b2-4299-f168-24db135279ef"
      },
      "execution_count": null,
      "outputs": [
        {
          "output_type": "stream",
          "name": "stdout",
          "text": [
            "[1] training loss: 0.833\n",
            "[1] validation accuracy: 0.866\n",
            "[2] training loss: 0.380\n",
            "[2] validation accuracy: 0.915\n",
            "[3] training loss: 0.296\n",
            "[3] validation accuracy: 0.923\n",
            "[4] training loss: 0.256\n",
            "[4] validation accuracy: 0.931\n",
            "[5] training loss: 0.230\n",
            "[5] validation accuracy: 0.926\n",
            "[6] training loss: 0.221\n",
            "[6] validation accuracy: 0.947\n",
            "[7] training loss: 0.204\n",
            "[7] validation accuracy: 0.935\n",
            "[8] training loss: 0.193\n",
            "[8] validation accuracy: 0.949\n",
            "[9] training loss: 0.192\n",
            "[9] validation accuracy: 0.954\n",
            "[10] training loss: 0.171\n",
            "[10] validation accuracy: 0.947\n",
            "Finished Training\n"
          ]
        }
      ]
    },
    {
      "cell_type": "code",
      "source": [],
      "metadata": {
        "id": "JKtCqME8vGIG"
      },
      "execution_count": null,
      "outputs": []
    }
  ]
}